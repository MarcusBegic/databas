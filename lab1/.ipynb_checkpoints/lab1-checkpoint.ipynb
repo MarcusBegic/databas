{
 "cells": [
  {
   "cell_type": "markdown",
   "id": "87046e51",
   "metadata": {},
   "source": [
    "<!-- -*- mode: markdown; coding: utf-8; fill-column: 60; ispell-dictionary: \"english\" -*- -->\n",
    "\n",
    "<meta charset=\"utf-8\"/>\n",
    "<meta name=\"viewport\" content=\"width=device-width,initial-scale=1\"/>\n",
    "<link rel=\"stylesheet\" href=\"style.css\">\n",
    "\n",
    "\n",
    "# EDAF75 - lab 1: SQL\n",
    "\n",
    "This lab is meant to be run as a `jupyter` notebook, you\n",
    "could download it [here](lab1.zip) (the zip-file contains\n",
    "the notebook and the database, and a [.html-file](lab1.html)\n",
    "which you can read in case you have problems reading/running\n",
    "jupyter notebooks).\n",
    "\n",
    "To start your notebook, you can use the following commands\n",
    "(after you've downloaded [the zip file](lab1.zip)):"
   ]
  },
  {
   "cell_type": "markdown",
   "id": "5f0722ad",
   "metadata": {},
   "source": [
    "```sh\n",
    "unzip lab1.zip\n",
    "jupyter notebook\n",
    "```\n"
   ]
  },
  {
   "cell_type": "markdown",
   "id": "ec88077b",
   "metadata": {},
   "source": [
    "This should start jupyter in a browser tab, and there you\n",
    "can click \"lab1.ipynb\".\n",
    "\n",
    "\n",
    "## Background\n",
    "\n",
    "We have a database to handle the academic achievements of\n",
    "students at LTH -- in it we have three tables:\n",
    "\n",
    "<hr>\n",
    "<table rules=\"all\">\n",
    " <tr>\n",
    "  <th align=\"left\"><code>students:</code></th>\n",
    "  <th></th>\n",
    " </tr>\n",
    " <tr>\n",
    "  <td><code>ssn</code></td>\n",
    "  <td>social security number</td>\n",
    " </tr>\n",
    " <tr>\n",
    "  <td><code>first_name</code></td>\n",
    "  <td>first name (obviously!)</td>\n",
    " </tr>\n",
    " <tr>\n",
    "  <td><code>last_name</code></td>\n",
    "  <td>last name</td>\n",
    " </tr>\n",
    "</table>\n",
    "\n",
    "<hr>\n",
    "\n",
    "<table rules=\"all\">\n",
    " <tr>\n",
    "  <th align=\"left\"><code>courses:</code></th>\n",
    "  <th></th>\n",
    " </tr>\n",
    " <tr>\n",
    "  <td><code>course_code</code></td>\n",
    "  <td>course code, like <code>EDAF75</code></td>\n",
    " </tr>\n",
    " <tr>\n",
    "  <td><code>course_name</code></td>\n",
    "  <td>the name of the course, like \"Database Technology\"</td>\n",
    " </tr>\n",
    " <tr>\n",
    "  <td><code>level</code></td>\n",
    "  <td>the course level, like \"G1\", \"G2\", or \"A\"</td>\n",
    " </tr>\n",
    " <tr>\n",
    "  <td><code>credits</code></td>\n",
    "  <td>the number of credits for the course, like 7.5</td>\n",
    " </tr>\n",
    "</table>\n",
    "\n",
    "<hr>\n",
    "\n",
    "<table rules=\"all\">\n",
    " <tr>\n",
    "  <th align=\"left\"><code>taken_courses:</code></th>\n",
    "  <th></th>\n",
    " </tr>\n",
    " <tr>\n",
    "  <td><code>ssn</code></td>\n",
    "  <td>the social security number of a student</td>\n",
    " </tr>\n",
    " <tr>\n",
    "  <td><code>course_code</code></td>\n",
    "  <td>the course code for the course the student has taken</td>\n",
    " </tr>\n",
    " <tr>\n",
    "  <td><code>grade</code></td>\n",
    "  <td>the grade for the student passing the course</td>\n",
    " </tr>\n",
    "</table>\n",
    "\n",
    "<hr>\n",
    "\n",
    "<center>\n",
    "  <img src=\"lab1.png\">\n",
    "</center>\n",
    "\n",
    "Some sample data:"
   ]
  },
  {
   "cell_type": "markdown",
   "id": "e581133c",
   "metadata": {},
   "source": [
    "```text\n",
    "ssn           first_name   last_name\n",
    "---           ----------   ---------\n",
    "861103–2438   Bo           Ek\n",
    "911212–1746   Eva          Alm\n",
    "950829–1848   Anna         Nyström\n",
    "...           ...          ...\n",
    "\n",
    "course_code   course_name                   level    credits\n",
    "-----------   -----------                   -----    -------\n",
    "EDA016        Programmeringsteknik          G1       7.5\n",
    "EDAA01        Programmeringsteknik - FK     G1       7.5\n",
    "EDA230        Optimerande kompilatorer      A        7.5\n",
    "...           ...                           ...      ...\n",
    "\n",
    "ssn           course_code   grade\n",
    "---           -----------   -----\n",
    "861103–2438   EDA016        4\n",
    "861103–2438   EDAA01        3\n",
    "911212–1746   EDA016        3\n",
    "...           ...           ...\n",
    "```\n"
   ]
  },
  {
   "cell_type": "markdown",
   "id": "9f0f7e3a",
   "metadata": {},
   "source": [
    "The tables have been created with the following SQL\n",
    "statements:"
   ]
  },
  {
   "cell_type": "markdown",
   "id": "b6eb45a6",
   "metadata": {},
   "source": [
    "```sql\n",
    "CREATE TABLE students (\n",
    "  ssn          CHAR(11),\n",
    "  first_name   TEXT NOT NULL,\n",
    "  last_name    TEXT NOT NULL,\n",
    "  PRIMARY KEY  (ssn)\n",
    ");\n",
    "\n",
    "CREATE TABLE courses (\n",
    "  course_code   CHAR(6),\n",
    "  course_name   TEXT NOT NULL,\n",
    "  level         CHAR(2),\n",
    "  credits       DOUBLE NOT NULL CHECK (credits > 0),\n",
    "  PRIMARY KEY   (course_code)\n",
    ");\n",
    "\n",
    "CREATE TABLE taken_courses (\n",
    "  ssn           CHAR(11),\n",
    "  course_code   CHAR(6),\n",
    "  grade         INTEGER NOT NULL CHECK (grade >= 3 AND grade <= 5),\n",
    "  PRIMARY KEY   (ssn, course_code),\n",
    "  FOREIGN KEY   (ssn) REFERENCES students(ssn),\n",
    "  FOREIGN KEY   (course_code) REFERENCES courses(course_code)\n",
    ");\n",
    "```\n"
   ]
  },
  {
   "cell_type": "markdown",
   "id": "948bdc13",
   "metadata": {},
   "source": [
    "All courses offered at the \"Computer Science and\n",
    "Engineering\" program at LTH during the academic year 2013/14\n",
    "are in the table 'courses`. Also, the database has been\n",
    "filled with made up data. SQL statements like the following\n",
    "have been used to insert the data:"
   ]
  },
  {
   "cell_type": "markdown",
   "id": "f87445bf",
   "metadata": {},
   "source": [
    "```sql\n",
    "INTO   students(ssn, first_name, last_name)\n",
    "VALUES ('950705-2308', 'Anna', 'Johansson'),\n",
    "       ('930702-3582', 'Anna', 'Johansson'),\n",
    "       ('911212-1746', 'Eva', 'Alm'),\n",
    "       ('910707-3787', 'Eva', 'Nilsson'),\n",
    "       ...\n",
    "```\n"
   ]
  },
  {
   "cell_type": "markdown",
   "id": "bb4b57a3",
   "metadata": {},
   "source": [
    "## Assignments\n",
    "\n",
    "As said above, this lab is designed to be run as a jupyter\n",
    "notebook. If you haven't got jupyter running, you can run\n",
    "the sql-commands for the problems below interactively inside\n",
    "sqlite3, or as a script file with all your commands, or\n",
    "inside some IDE, like [DB Browser for\n",
    "SQLite](https://sqlitebrowser.org/).\n",
    "\n",
    "If you're running the lab as a notebook (and hopefully you\n",
    "are!), evaluate the following cells before you begin:"
   ]
  },
  {
   "cell_type": "code",
   "execution_count": 1,
   "id": "514b5b02",
   "metadata": {},
   "outputs": [],
   "source": [
    "%load_ext sql"
   ]
  },
  {
   "cell_type": "code",
   "execution_count": 4,
   "id": "5419151c",
   "metadata": {},
   "outputs": [],
   "source": [
    "%sql sqlite:///lab1.sqlite"
   ]
  },
  {
   "cell_type": "markdown",
   "id": "ae65f43b",
   "metadata": {},
   "source": [
    "The tables `students`, `courses` and `taken_courses` are\n",
    "already in your database, you can see some of their contents\n",
    "by running the cells below:"
   ]
  },
  {
   "cell_type": "code",
   "execution_count": 5,
   "id": "6ca94cee",
   "metadata": {},
   "outputs": [
    {
     "name": "stdout",
     "output_type": "stream",
     "text": [
      " * sqlite:///lab1.sqlite\n",
      "Done.\n"
     ]
    },
    {
     "data": {
      "text/html": [
       "<table>\n",
       "    <tr>\n",
       "        <th>ssn</th>\n",
       "        <th>first_name</th>\n",
       "        <th>last_name</th>\n",
       "    </tr>\n",
       "    <tr>\n",
       "        <td>950705-2308</td>\n",
       "        <td>Anna</td>\n",
       "        <td>Johansson</td>\n",
       "    </tr>\n",
       "    <tr>\n",
       "        <td>930702-3582</td>\n",
       "        <td>Anna</td>\n",
       "        <td>Johansson</td>\n",
       "    </tr>\n",
       "    <tr>\n",
       "        <td>911212-1746</td>\n",
       "        <td>Eva</td>\n",
       "        <td>Alm</td>\n",
       "    </tr>\n",
       "    <tr>\n",
       "        <td>910707-3787</td>\n",
       "        <td>Eva</td>\n",
       "        <td>Nilsson</td>\n",
       "    </tr>\n",
       "</table>"
      ],
      "text/plain": [
       "[('950705-2308', 'Anna', 'Johansson'),\n",
       " ('930702-3582', 'Anna', 'Johansson'),\n",
       " ('911212-1746', 'Eva', 'Alm'),\n",
       " ('910707-3787', 'Eva', 'Nilsson')]"
      ]
     },
     "execution_count": 5,
     "metadata": {},
     "output_type": "execute_result"
    }
   ],
   "source": [
    "%%sql\n",
    "SELECT  *\n",
    "FROM    students\n",
    "LIMIT   4"
   ]
  },
  {
   "cell_type": "code",
   "execution_count": 6,
   "id": "aae8d0db",
   "metadata": {},
   "outputs": [
    {
     "name": "stdout",
     "output_type": "stream",
     "text": [
      " * sqlite:///lab1.sqlite\n",
      "Done.\n"
     ]
    },
    {
     "data": {
      "text/html": [
       "<table>\n",
       "    <tr>\n",
       "        <th>course_code</th>\n",
       "        <th>course_name</th>\n",
       "        <th>level</th>\n",
       "        <th>credits</th>\n",
       "    </tr>\n",
       "    <tr>\n",
       "        <td>EDA016</td>\n",
       "        <td>Programmeringsteknik</td>\n",
       "        <td>G1</td>\n",
       "        <td>7.5</td>\n",
       "    </tr>\n",
       "    <tr>\n",
       "        <td>EDA031</td>\n",
       "        <td>C++ - programmering</td>\n",
       "        <td>G2</td>\n",
       "        <td>7.5</td>\n",
       "    </tr>\n",
       "    <tr>\n",
       "        <td>EDA040</td>\n",
       "        <td>Realtidsprogrammering</td>\n",
       "        <td>G2</td>\n",
       "        <td>6.0</td>\n",
       "    </tr>\n",
       "    <tr>\n",
       "        <td>EDA050</td>\n",
       "        <td>Operativsystem</td>\n",
       "        <td>G2</td>\n",
       "        <td>4.5</td>\n",
       "    </tr>\n",
       "</table>"
      ],
      "text/plain": [
       "[('EDA016', 'Programmeringsteknik', 'G1', 7.5),\n",
       " ('EDA031', 'C++ - programmering', 'G2', 7.5),\n",
       " ('EDA040', 'Realtidsprogrammering', 'G2', 6.0),\n",
       " ('EDA050', 'Operativsystem', 'G2', 4.5)]"
      ]
     },
     "execution_count": 6,
     "metadata": {},
     "output_type": "execute_result"
    }
   ],
   "source": [
    "%%sql\n",
    "SELECT  *\n",
    "FROM    courses\n",
    "LIMIT   4"
   ]
  },
  {
   "cell_type": "code",
   "execution_count": 7,
   "id": "098f8525",
   "metadata": {},
   "outputs": [
    {
     "name": "stdout",
     "output_type": "stream",
     "text": [
      " * sqlite:///lab1.sqlite\n",
      "Done.\n"
     ]
    },
    {
     "data": {
      "text/html": [
       "<table>\n",
       "    <tr>\n",
       "        <th>ssn</th>\n",
       "        <th>course_code</th>\n",
       "        <th>grade</th>\n",
       "    </tr>\n",
       "    <tr>\n",
       "        <td>950705-2308</td>\n",
       "        <td>EITN35</td>\n",
       "        <td>5</td>\n",
       "    </tr>\n",
       "    <tr>\n",
       "        <td>950705-2308</td>\n",
       "        <td>ESS050</td>\n",
       "        <td>3</td>\n",
       "    </tr>\n",
       "    <tr>\n",
       "        <td>950705-2308</td>\n",
       "        <td>ETIN70</td>\n",
       "        <td>4</td>\n",
       "    </tr>\n",
       "    <tr>\n",
       "        <td>950705-2308</td>\n",
       "        <td>FMA140</td>\n",
       "        <td>4</td>\n",
       "    </tr>\n",
       "</table>"
      ],
      "text/plain": [
       "[('950705-2308', 'EITN35', 5),\n",
       " ('950705-2308', 'ESS050', 3),\n",
       " ('950705-2308', 'ETIN70', 4),\n",
       " ('950705-2308', 'FMA140', 4)]"
      ]
     },
     "execution_count": 7,
     "metadata": {},
     "output_type": "execute_result"
    }
   ],
   "source": [
    "%%sql\n",
    "SELECT  *\n",
    "FROM    taken_courses\n",
    "LIMIT   4"
   ]
  },
  {
   "cell_type": "markdown",
   "id": "e4fa99b2",
   "metadata": {},
   "source": [
    "If you inadvertently change the contents of the tables, you\n",
    "can always recreate the them with the following command (it\n",
    "must be run at the command line):"
   ]
  },
  {
   "cell_type": "markdown",
   "id": "a1197263",
   "metadata": {},
   "source": [
    "```sh\n",
    "sqlite3 lab1.sqlite < lab1-setup.sql\n",
    "```\n"
   ]
  },
  {
   "cell_type": "markdown",
   "id": "d8e9d853",
   "metadata": {},
   "source": [
    "After some of the questions there is a number in brackets.\n",
    "This is the number of rows generated by the question. For\n",
    "instance, [72] after question a) means that there are 72\n",
    "students in the database, you can use that number as an\n",
    "indicatation of if your answer is in the right ballpark.\n",
    "\n",
    "a) What are the names (first name, last name) of all the\n",
    "   students? [72]"
   ]
  },
  {
   "cell_type": "code",
   "execution_count": 8,
   "id": "d6c65535",
   "metadata": {},
   "outputs": [
    {
     "name": "stdout",
     "output_type": "stream",
     "text": [
      " * sqlite:///lab1.sqlite\n",
      "Done.\n"
     ]
    },
    {
     "data": {
      "text/html": [
       "<table>\n",
       "    <tr>\n",
       "        <th>first_name</th>\n",
       "        <th>last_name</th>\n",
       "    </tr>\n",
       "    <tr>\n",
       "        <td>Anna</td>\n",
       "        <td>Johansson</td>\n",
       "    </tr>\n",
       "    <tr>\n",
       "        <td>Anna</td>\n",
       "        <td>Johansson</td>\n",
       "    </tr>\n",
       "    <tr>\n",
       "        <td>Eva</td>\n",
       "        <td>Alm</td>\n",
       "    </tr>\n",
       "    <tr>\n",
       "        <td>Eva</td>\n",
       "        <td>Nilsson</td>\n",
       "    </tr>\n",
       "    <tr>\n",
       "        <td>Elaine</td>\n",
       "        <td>Robertson</td>\n",
       "    </tr>\n",
       "    <tr>\n",
       "        <td>Maria</td>\n",
       "        <td>Nordman</td>\n",
       "    </tr>\n",
       "    <tr>\n",
       "        <td>Helena</td>\n",
       "        <td>Troberg</td>\n",
       "    </tr>\n",
       "    <tr>\n",
       "        <td>Lotta</td>\n",
       "        <td>Emanuelsson</td>\n",
       "    </tr>\n",
       "    <tr>\n",
       "        <td>Anna</td>\n",
       "        <td>Nyström</td>\n",
       "    </tr>\n",
       "    <tr>\n",
       "        <td>Maria</td>\n",
       "        <td>Andersson</td>\n",
       "    </tr>\n",
       "</table>"
      ],
      "text/plain": [
       "[('Anna', 'Johansson'),\n",
       " ('Anna', 'Johansson'),\n",
       " ('Eva', 'Alm'),\n",
       " ('Eva', 'Nilsson'),\n",
       " ('Elaine', 'Robertson'),\n",
       " ('Maria', 'Nordman'),\n",
       " ('Helena', 'Troberg'),\n",
       " ('Lotta', 'Emanuelsson'),\n",
       " ('Anna', 'Nyström'),\n",
       " ('Maria', 'Andersson')]"
      ]
     },
     "execution_count": 8,
     "metadata": {},
     "output_type": "execute_result"
    }
   ],
   "source": [
    "%%sql\n",
    "select first_name, last_name\n",
    "from students\n",
    "limit 10\n"
   ]
  },
  {
   "cell_type": "markdown",
   "id": "1b845a9e",
   "metadata": {},
   "source": [
    "b) Same as question a) but produce a sorted listing -- sort\n",
    "   first by last name and then by first name. (When you get\n",
    "   it to work, experiment by listing only the 10 first\n",
    "   students, then try to list only students 11-20, etc.)."
   ]
  },
  {
   "cell_type": "code",
   "execution_count": 11,
   "id": "ff31712b",
   "metadata": {
    "attributes": {
     "classes": [
      "clear"
     ],
     "id": ""
    }
   },
   "outputs": [
    {
     "name": "stdout",
     "output_type": "stream",
     "text": [
      " * sqlite:///lab1.sqlite\n",
      "Done.\n"
     ]
    },
    {
     "data": {
      "text/html": [
       "<table>\n",
       "    <tr>\n",
       "        <th>first_name</th>\n",
       "        <th>last_name</th>\n",
       "    </tr>\n",
       "    <tr>\n",
       "        <td>Anders</td>\n",
       "        <td>Magnusson</td>\n",
       "    </tr>\n",
       "    <tr>\n",
       "        <td>Anders</td>\n",
       "        <td>Olsson</td>\n",
       "    </tr>\n",
       "    <tr>\n",
       "        <td>Andreas</td>\n",
       "        <td>Molin</td>\n",
       "    </tr>\n",
       "    <tr>\n",
       "        <td>Anna</td>\n",
       "        <td>Johansson</td>\n",
       "    </tr>\n",
       "    <tr>\n",
       "        <td>Anna</td>\n",
       "        <td>Johansson</td>\n",
       "    </tr>\n",
       "    <tr>\n",
       "        <td>Anna</td>\n",
       "        <td>Nyström</td>\n",
       "    </tr>\n",
       "    <tr>\n",
       "        <td>Axel</td>\n",
       "        <td>Nord</td>\n",
       "    </tr>\n",
       "    <tr>\n",
       "        <td>Birgit</td>\n",
       "        <td>Ewesson</td>\n",
       "    </tr>\n",
       "    <tr>\n",
       "        <td>Bo</td>\n",
       "        <td>Ek</td>\n",
       "    </tr>\n",
       "    <tr>\n",
       "        <td>Bo</td>\n",
       "        <td>Ek</td>\n",
       "    </tr>\n",
       "    <tr>\n",
       "        <td>Bo</td>\n",
       "        <td>Ek</td>\n",
       "    </tr>\n",
       "    <tr>\n",
       "        <td>Caroline</td>\n",
       "        <td>Olsson</td>\n",
       "    </tr>\n",
       "    <tr>\n",
       "        <td>Christian</td>\n",
       "        <td>Wallman</td>\n",
       "    </tr>\n",
       "    <tr>\n",
       "        <td>Conny</td>\n",
       "        <td>Modig</td>\n",
       "    </tr>\n",
       "    <tr>\n",
       "        <td>Daniel</td>\n",
       "        <td>Ahlman</td>\n",
       "    </tr>\n",
       "    <tr>\n",
       "        <td>Daniel</td>\n",
       "        <td>Axelsson</td>\n",
       "    </tr>\n",
       "    <tr>\n",
       "        <td>David</td>\n",
       "        <td>Carlsson</td>\n",
       "    </tr>\n",
       "    <tr>\n",
       "        <td>Elaine</td>\n",
       "        <td>Robertson</td>\n",
       "    </tr>\n",
       "    <tr>\n",
       "        <td>Erik</td>\n",
       "        <td>Andersson</td>\n",
       "    </tr>\n",
       "    <tr>\n",
       "        <td>Erik</td>\n",
       "        <td>Andersson</td>\n",
       "    </tr>\n",
       "    <tr>\n",
       "        <td>Eva</td>\n",
       "        <td>Alm</td>\n",
       "    </tr>\n",
       "    <tr>\n",
       "        <td>Eva</td>\n",
       "        <td>Hjort</td>\n",
       "    </tr>\n",
       "    <tr>\n",
       "        <td>Eva</td>\n",
       "        <td>Nilsson</td>\n",
       "    </tr>\n",
       "    <tr>\n",
       "        <td>Filip</td>\n",
       "        <td>Gustavsson</td>\n",
       "    </tr>\n",
       "    <tr>\n",
       "        <td>Filip</td>\n",
       "        <td>Persson</td>\n",
       "    </tr>\n",
       "    <tr>\n",
       "        <td>Fredrik</td>\n",
       "        <td>Ryd</td>\n",
       "    </tr>\n",
       "    <tr>\n",
       "        <td>Frida</td>\n",
       "        <td>Weidel</td>\n",
       "    </tr>\n",
       "    <tr>\n",
       "        <td>Helena</td>\n",
       "        <td>Troberg</td>\n",
       "    </tr>\n",
       "    <tr>\n",
       "        <td>Henrik</td>\n",
       "        <td>Berg</td>\n",
       "    </tr>\n",
       "    <tr>\n",
       "        <td>Henrik</td>\n",
       "        <td>Gustavsson</td>\n",
       "    </tr>\n",
       "    <tr>\n",
       "        <td>Henrik</td>\n",
       "        <td>Hult</td>\n",
       "    </tr>\n",
       "    <tr>\n",
       "        <td>Håkan</td>\n",
       "        <td>Mossgren</td>\n",
       "    </tr>\n",
       "    <tr>\n",
       "        <td>Jakob</td>\n",
       "        <td>Malmberg</td>\n",
       "    </tr>\n",
       "    <tr>\n",
       "        <td>Jenny</td>\n",
       "        <td>Lundin</td>\n",
       "    </tr>\n",
       "    <tr>\n",
       "        <td>Joakim</td>\n",
       "        <td>Hall</td>\n",
       "    </tr>\n",
       "    <tr>\n",
       "        <td>Joakim</td>\n",
       "        <td>Nilsson</td>\n",
       "    </tr>\n",
       "    <tr>\n",
       "        <td>Johan</td>\n",
       "        <td>Brattberg</td>\n",
       "    </tr>\n",
       "    <tr>\n",
       "        <td>Johan</td>\n",
       "        <td>Lind</td>\n",
       "    </tr>\n",
       "    <tr>\n",
       "        <td>Johan</td>\n",
       "        <td>Olsson</td>\n",
       "    </tr>\n",
       "    <tr>\n",
       "        <td>John</td>\n",
       "        <td>Lind</td>\n",
       "    </tr>\n",
       "    <tr>\n",
       "        <td>Jonathan</td>\n",
       "        <td>Jönsson</td>\n",
       "    </tr>\n",
       "    <tr>\n",
       "        <td>Karin</td>\n",
       "        <td>Östberg</td>\n",
       "    </tr>\n",
       "    <tr>\n",
       "        <td>Karolin</td>\n",
       "        <td>Ek</td>\n",
       "    </tr>\n",
       "    <tr>\n",
       "        <td>Lars</td>\n",
       "        <td>Molin</td>\n",
       "    </tr>\n",
       "    <tr>\n",
       "        <td>Lisa</td>\n",
       "        <td>Berg</td>\n",
       "    </tr>\n",
       "    <tr>\n",
       "        <td>Lotta</td>\n",
       "        <td>Bergman</td>\n",
       "    </tr>\n",
       "    <tr>\n",
       "        <td>Lotta</td>\n",
       "        <td>Emanuelsson</td>\n",
       "    </tr>\n",
       "    <tr>\n",
       "        <td>Magnus</td>\n",
       "        <td>Hultgren</td>\n",
       "    </tr>\n",
       "    <tr>\n",
       "        <td>Magnus</td>\n",
       "        <td>Nilsson</td>\n",
       "    </tr>\n",
       "    <tr>\n",
       "        <td>Magnus</td>\n",
       "        <td>Pettersson</td>\n",
       "    </tr>\n",
       "    <tr>\n",
       "        <td>Magnus</td>\n",
       "        <td>Strömgren</td>\n",
       "    </tr>\n",
       "    <tr>\n",
       "        <td>Maria</td>\n",
       "        <td>Andersson</td>\n",
       "    </tr>\n",
       "    <tr>\n",
       "        <td>Maria</td>\n",
       "        <td>Nordman</td>\n",
       "    </tr>\n",
       "    <tr>\n",
       "        <td>Marie</td>\n",
       "        <td>Persson</td>\n",
       "    </tr>\n",
       "    <tr>\n",
       "        <td>Martin</td>\n",
       "        <td>Alm</td>\n",
       "    </tr>\n",
       "    <tr>\n",
       "        <td>Mats</td>\n",
       "        <td>Wikström</td>\n",
       "    </tr>\n",
       "    <tr>\n",
       "        <td>Mikael</td>\n",
       "        <td>Nilsson</td>\n",
       "    </tr>\n",
       "    <tr>\n",
       "        <td>Märit</td>\n",
       "        <td>Aspegren</td>\n",
       "    </tr>\n",
       "    <tr>\n",
       "        <td>Niklas</td>\n",
       "        <td>Andersson</td>\n",
       "    </tr>\n",
       "    <tr>\n",
       "        <td>Ola</td>\n",
       "        <td>Nilsson</td>\n",
       "    </tr>\n",
       "    <tr>\n",
       "        <td>Patrik</td>\n",
       "        <td>Lundh</td>\n",
       "    </tr>\n",
       "    <tr>\n",
       "        <td>Patrik</td>\n",
       "        <td>Ohlsson</td>\n",
       "    </tr>\n",
       "    <tr>\n",
       "        <td>Per-Erik</td>\n",
       "        <td>Pettersson</td>\n",
       "    </tr>\n",
       "    <tr>\n",
       "        <td>Peter</td>\n",
       "        <td>Solberg</td>\n",
       "    </tr>\n",
       "    <tr>\n",
       "        <td>Roger</td>\n",
       "        <td>Brorsson</td>\n",
       "    </tr>\n",
       "    <tr>\n",
       "        <td>Sofia</td>\n",
       "        <td>Kjellberg</td>\n",
       "    </tr>\n",
       "    <tr>\n",
       "        <td>Susanne</td>\n",
       "        <td>Dahl</td>\n",
       "    </tr>\n",
       "    <tr>\n",
       "        <td>Tina</td>\n",
       "        <td>Lööf</td>\n",
       "    </tr>\n",
       "    <tr>\n",
       "        <td>Tobias</td>\n",
       "        <td>Enberg</td>\n",
       "    </tr>\n",
       "    <tr>\n",
       "        <td>Torbjörn</td>\n",
       "        <td>Modig</td>\n",
       "    </tr>\n",
       "    <tr>\n",
       "        <td>Ulrika</td>\n",
       "        <td>Jonsson</td>\n",
       "    </tr>\n",
       "    <tr>\n",
       "        <td>Ylva</td>\n",
       "        <td>Jacobsson</td>\n",
       "    </tr>\n",
       "</table>"
      ],
      "text/plain": [
       "[('Anders', 'Magnusson'),\n",
       " ('Anders', 'Olsson'),\n",
       " ('Andreas', 'Molin'),\n",
       " ('Anna', 'Johansson'),\n",
       " ('Anna', 'Johansson'),\n",
       " ('Anna', 'Nyström'),\n",
       " ('Axel', 'Nord'),\n",
       " ('Birgit', 'Ewesson'),\n",
       " ('Bo', 'Ek'),\n",
       " ('Bo', 'Ek'),\n",
       " ('Bo', 'Ek'),\n",
       " ('Caroline', 'Olsson'),\n",
       " ('Christian', 'Wallman'),\n",
       " ('Conny', 'Modig'),\n",
       " ('Daniel', 'Ahlman'),\n",
       " ('Daniel', 'Axelsson'),\n",
       " ('David', 'Carlsson'),\n",
       " ('Elaine', 'Robertson'),\n",
       " ('Erik', 'Andersson'),\n",
       " ('Erik', 'Andersson'),\n",
       " ('Eva', 'Alm'),\n",
       " ('Eva', 'Hjort'),\n",
       " ('Eva', 'Nilsson'),\n",
       " ('Filip', 'Gustavsson'),\n",
       " ('Filip', 'Persson'),\n",
       " ('Fredrik', 'Ryd'),\n",
       " ('Frida', 'Weidel'),\n",
       " ('Helena', 'Troberg'),\n",
       " ('Henrik', 'Berg'),\n",
       " ('Henrik', 'Gustavsson'),\n",
       " ('Henrik', 'Hult'),\n",
       " ('Håkan', 'Mossgren'),\n",
       " ('Jakob', 'Malmberg'),\n",
       " ('Jenny', 'Lundin'),\n",
       " ('Joakim', 'Hall'),\n",
       " ('Joakim', 'Nilsson'),\n",
       " ('Johan', 'Brattberg'),\n",
       " ('Johan', 'Lind'),\n",
       " ('Johan', 'Olsson'),\n",
       " ('John', 'Lind'),\n",
       " ('Jonathan', 'Jönsson'),\n",
       " ('Karin', 'Östberg'),\n",
       " ('Karolin', 'Ek'),\n",
       " ('Lars', 'Molin'),\n",
       " ('Lisa', 'Berg'),\n",
       " ('Lotta', 'Bergman'),\n",
       " ('Lotta', 'Emanuelsson'),\n",
       " ('Magnus', 'Hultgren'),\n",
       " ('Magnus', 'Nilsson'),\n",
       " ('Magnus', 'Pettersson'),\n",
       " ('Magnus', 'Strömgren'),\n",
       " ('Maria', 'Andersson'),\n",
       " ('Maria', 'Nordman'),\n",
       " ('Marie', 'Persson'),\n",
       " ('Martin', 'Alm'),\n",
       " ('Mats', 'Wikström'),\n",
       " ('Mikael', 'Nilsson'),\n",
       " ('Märit', 'Aspegren'),\n",
       " ('Niklas', 'Andersson'),\n",
       " ('Ola', 'Nilsson'),\n",
       " ('Patrik', 'Lundh'),\n",
       " ('Patrik', 'Ohlsson'),\n",
       " ('Per-Erik', 'Pettersson'),\n",
       " ('Peter', 'Solberg'),\n",
       " ('Roger', 'Brorsson'),\n",
       " ('Sofia', 'Kjellberg'),\n",
       " ('Susanne', 'Dahl'),\n",
       " ('Tina', 'Lööf'),\n",
       " ('Tobias', 'Enberg'),\n",
       " ('Torbjörn', 'Modig'),\n",
       " ('Ulrika', 'Jonsson'),\n",
       " ('Ylva', 'Jacobsson')]"
      ]
     },
     "execution_count": 11,
     "metadata": {},
     "output_type": "execute_result"
    }
   ],
   "source": [
    "%%sql\n",
    "select first_name, last_name\n",
    "from students\n",
    "order by first_name,last_name"
   ]
  },
  {
   "cell_type": "markdown",
   "id": "a4d179bb",
   "metadata": {},
   "source": [
    "c) What are the names of the students who were born in 1985?\n",
    "   [4]"
   ]
  },
  {
   "cell_type": "code",
   "execution_count": 14,
   "id": "d385bd3c",
   "metadata": {
    "attributes": {
     "classes": [
      "clear"
     ],
     "id": ""
    }
   },
   "outputs": [
    {
     "name": "stdout",
     "output_type": "stream",
     "text": [
      " * sqlite:///lab1.sqlite\n",
      "Done.\n"
     ]
    },
    {
     "data": {
      "text/html": [
       "<table>\n",
       "    <tr>\n",
       "        <th>ssn</th>\n",
       "        <th>first_name</th>\n",
       "        <th>last_name</th>\n",
       "    </tr>\n",
       "    <tr>\n",
       "        <td>850706-2762</td>\n",
       "        <td>Ulrika</td>\n",
       "        <td>Jonsson</td>\n",
       "    </tr>\n",
       "    <tr>\n",
       "        <td>850819-2139</td>\n",
       "        <td>Bo</td>\n",
       "        <td>Ek</td>\n",
       "    </tr>\n",
       "    <tr>\n",
       "        <td>850517-2597</td>\n",
       "        <td>Filip</td>\n",
       "        <td>Persson</td>\n",
       "    </tr>\n",
       "    <tr>\n",
       "        <td>850208-1213</td>\n",
       "        <td>Henrik</td>\n",
       "        <td>Berg</td>\n",
       "    </tr>\n",
       "</table>"
      ],
      "text/plain": [
       "[('850706-2762', 'Ulrika', 'Jonsson'),\n",
       " ('850819-2139', 'Bo', 'Ek'),\n",
       " ('850517-2597', 'Filip', 'Persson'),\n",
       " ('850208-1213', 'Henrik', 'Berg')]"
      ]
     },
     "execution_count": 14,
     "metadata": {},
     "output_type": "execute_result"
    }
   ],
   "source": [
    "%%sql\n",
    "select ssn, first_name, last_name\n",
    "from students\n",
    "where substring(ssn, 1,2) = '85'\n"
   ]
  },
  {
   "cell_type": "code",
   "execution_count": null,
   "id": "4530e11a",
   "metadata": {},
   "outputs": [],
   "source": []
  },
  {
   "cell_type": "markdown",
   "id": "d446d267",
   "metadata": {},
   "source": [
    "d) The next-to-last digit in the social security number is\n",
    "   even for females, and odd for males. List the first names\n",
    "   of all female students in our database alphabetically --\n",
    "   _each name should occur only once_. Hint: the `substr`\n",
    "   function can be useful. [20]\n",
    "   "
   ]
  },
  {
   "cell_type": "code",
   "execution_count": 55,
   "id": "04f411ae",
   "metadata": {
    "attributes": {
     "classes": [
      "clear"
     ],
     "id": ""
    }
   },
   "outputs": [
    {
     "name": "stdout",
     "output_type": "stream",
     "text": [
      " * sqlite:///lab1.sqlite\n",
      "Done.\n"
     ]
    },
    {
     "data": {
      "text/html": [
       "<table>\n",
       "    <tr>\n",
       "        <th>ssn</th>\n",
       "        <th>first_name</th>\n",
       "        <th>last_name</th>\n",
       "    </tr>\n",
       "    <tr>\n",
       "        <td>950705-2308</td>\n",
       "        <td>Anna</td>\n",
       "        <td>Johansson</td>\n",
       "    </tr>\n",
       "    <tr>\n",
       "        <td>930702-3582</td>\n",
       "        <td>Anna</td>\n",
       "        <td>Johansson</td>\n",
       "    </tr>\n",
       "    <tr>\n",
       "        <td>911212-1746</td>\n",
       "        <td>Eva</td>\n",
       "        <td>Alm</td>\n",
       "    </tr>\n",
       "    <tr>\n",
       "        <td>910707-3787</td>\n",
       "        <td>Eva</td>\n",
       "        <td>Nilsson</td>\n",
       "    </tr>\n",
       "    <tr>\n",
       "        <td>931213-2824</td>\n",
       "        <td>Elaine</td>\n",
       "        <td>Robertson</td>\n",
       "    </tr>\n",
       "    <tr>\n",
       "        <td>951122-1048</td>\n",
       "        <td>Maria</td>\n",
       "        <td>Nordman</td>\n",
       "    </tr>\n",
       "    <tr>\n",
       "        <td>910308-1826</td>\n",
       "        <td>Helena</td>\n",
       "        <td>Troberg</td>\n",
       "    </tr>\n",
       "    <tr>\n",
       "        <td>941003-1225</td>\n",
       "        <td>Lotta</td>\n",
       "        <td>Emanuelsson</td>\n",
       "    </tr>\n",
       "    <tr>\n",
       "        <td>950829-1848</td>\n",
       "        <td>Anna</td>\n",
       "        <td>Nyström</td>\n",
       "    </tr>\n",
       "    <tr>\n",
       "        <td>860819-2864</td>\n",
       "        <td>Maria</td>\n",
       "        <td>Andersson</td>\n",
       "    </tr>\n",
       "    <tr>\n",
       "        <td>870915-2742</td>\n",
       "        <td>Marie</td>\n",
       "        <td>Persson</td>\n",
       "    </tr>\n",
       "    <tr>\n",
       "        <td>900227-2369</td>\n",
       "        <td>Märit</td>\n",
       "        <td>Aspegren</td>\n",
       "    </tr>\n",
       "    <tr>\n",
       "        <td>931208-3605</td>\n",
       "        <td>Ylva</td>\n",
       "        <td>Jacobsson</td>\n",
       "    </tr>\n",
       "    <tr>\n",
       "        <td>951004-2346</td>\n",
       "        <td>Frida</td>\n",
       "        <td>Weidel</td>\n",
       "    </tr>\n",
       "    <tr>\n",
       "        <td>870909-3367</td>\n",
       "        <td>Caroline</td>\n",
       "        <td>Olsson</td>\n",
       "    </tr>\n",
       "    <tr>\n",
       "        <td>910915-2068</td>\n",
       "        <td>Karolin</td>\n",
       "        <td>Ek</td>\n",
       "    </tr>\n",
       "    <tr>\n",
       "        <td>860206-1065</td>\n",
       "        <td>Eva</td>\n",
       "        <td>Hjort</td>\n",
       "    </tr>\n",
       "    <tr>\n",
       "        <td>900528-1540</td>\n",
       "        <td>Sofia</td>\n",
       "        <td>Kjellberg</td>\n",
       "    </tr>\n",
       "    <tr>\n",
       "        <td>930502-2040</td>\n",
       "        <td>Tina</td>\n",
       "        <td>Lööf</td>\n",
       "    </tr>\n",
       "    <tr>\n",
       "        <td>950317-3520</td>\n",
       "        <td>Lisa</td>\n",
       "        <td>Berg</td>\n",
       "    </tr>\n",
       "    <tr>\n",
       "        <td>891021-1287</td>\n",
       "        <td>Lotta</td>\n",
       "        <td>Bergman</td>\n",
       "    </tr>\n",
       "    <tr>\n",
       "        <td>880620-2564</td>\n",
       "        <td>Susanne</td>\n",
       "        <td>Dahl</td>\n",
       "    </tr>\n",
       "    <tr>\n",
       "        <td>940802-3861</td>\n",
       "        <td>Birgit</td>\n",
       "        <td>Ewesson</td>\n",
       "    </tr>\n",
       "    <tr>\n",
       "        <td>850706-2762</td>\n",
       "        <td>Ulrika</td>\n",
       "        <td>Jonsson</td>\n",
       "    </tr>\n",
       "    <tr>\n",
       "        <td>890622-1928</td>\n",
       "        <td>Jenny</td>\n",
       "        <td>Lundin</td>\n",
       "    </tr>\n",
       "    <tr>\n",
       "        <td>910226-3409</td>\n",
       "        <td>Karin</td>\n",
       "        <td>Östberg</td>\n",
       "    </tr>\n",
       "</table>"
      ],
      "text/plain": [
       "[('950705-2308', 'Anna', 'Johansson'),\n",
       " ('930702-3582', 'Anna', 'Johansson'),\n",
       " ('911212-1746', 'Eva', 'Alm'),\n",
       " ('910707-3787', 'Eva', 'Nilsson'),\n",
       " ('931213-2824', 'Elaine', 'Robertson'),\n",
       " ('951122-1048', 'Maria', 'Nordman'),\n",
       " ('910308-1826', 'Helena', 'Troberg'),\n",
       " ('941003-1225', 'Lotta', 'Emanuelsson'),\n",
       " ('950829-1848', 'Anna', 'Nyström'),\n",
       " ('860819-2864', 'Maria', 'Andersson'),\n",
       " ('870915-2742', 'Marie', 'Persson'),\n",
       " ('900227-2369', 'Märit', 'Aspegren'),\n",
       " ('931208-3605', 'Ylva', 'Jacobsson'),\n",
       " ('951004-2346', 'Frida', 'Weidel'),\n",
       " ('870909-3367', 'Caroline', 'Olsson'),\n",
       " ('910915-2068', 'Karolin', 'Ek'),\n",
       " ('860206-1065', 'Eva', 'Hjort'),\n",
       " ('900528-1540', 'Sofia', 'Kjellberg'),\n",
       " ('930502-2040', 'Tina', 'Lööf'),\n",
       " ('950317-3520', 'Lisa', 'Berg'),\n",
       " ('891021-1287', 'Lotta', 'Bergman'),\n",
       " ('880620-2564', 'Susanne', 'Dahl'),\n",
       " ('940802-3861', 'Birgit', 'Ewesson'),\n",
       " ('850706-2762', 'Ulrika', 'Jonsson'),\n",
       " ('890622-1928', 'Jenny', 'Lundin'),\n",
       " ('910226-3409', 'Karin', 'Östberg')]"
      ]
     },
     "execution_count": 55,
     "metadata": {},
     "output_type": "execute_result"
    }
   ],
   "source": [
    "%%sql\n",
    "select ssn, first_name, last_name\n",
    "from students\n",
    "where mod(cast(substr(ssn, 10,1)  AS INT), 2) = 0"
   ]
  },
  {
   "cell_type": "markdown",
   "id": "a2b7eb23",
   "metadata": {},
   "source": [
    "e) How many students are registered in the database?"
   ]
  },
  {
   "cell_type": "code",
   "execution_count": 57,
   "id": "85cb86b7",
   "metadata": {
    "attributes": {
     "classes": [
      "clear"
     ],
     "id": ""
    }
   },
   "outputs": [
    {
     "name": "stdout",
     "output_type": "stream",
     "text": [
      " * sqlite:///lab1.sqlite\n",
      "Done.\n"
     ]
    },
    {
     "data": {
      "text/html": [
       "<table>\n",
       "    <tr>\n",
       "        <th>ssn</th>\n",
       "        <th>count()</th>\n",
       "    </tr>\n",
       "    <tr>\n",
       "        <td>850208-1213</td>\n",
       "        <td>72</td>\n",
       "    </tr>\n",
       "</table>"
      ],
      "text/plain": [
       "[('850208-1213', 72)]"
      ]
     },
     "execution_count": 57,
     "metadata": {},
     "output_type": "execute_result"
    }
   ],
   "source": [
    "%%sql\n",
    "select ssn, count()\n",
    "from students"
   ]
  },
  {
   "cell_type": "markdown",
   "id": "d92ab868",
   "metadata": {},
   "source": [
    "_Optional_: Now try to output the number of names in the\n",
    "   listing in (d) using `count`. It turns out that this is a\n",
    "   little bit tricky, we need to make sure we use the word\n",
    "   `DISTINCT` in the right place (look carefully in the\n",
    "   [documentation](https://sqlite.org/lang_aggfunc.html)).\n",
    "\n",
    "\n",
    "f) Which courses are offered by the department of\n",
    "   Mathematics (their course codes have the form `FMAxxx`)?\n",
    "   [22]"
   ]
  },
  {
   "cell_type": "code",
   "execution_count": 60,
   "id": "326a7703",
   "metadata": {
    "attributes": {
     "classes": [
      "clear"
     ],
     "id": ""
    }
   },
   "outputs": [
    {
     "name": "stdout",
     "output_type": "stream",
     "text": [
      " * sqlite:///lab1.sqlite\n",
      "Done.\n"
     ]
    },
    {
     "data": {
      "text/html": [
       "<table>\n",
       "    <tr>\n",
       "        <th>course_code</th>\n",
       "    </tr>\n",
       "    <tr>\n",
       "        <td>FMA021</td>\n",
       "    </tr>\n",
       "    <tr>\n",
       "        <td>FMA051</td>\n",
       "    </tr>\n",
       "    <tr>\n",
       "        <td>FMA091</td>\n",
       "    </tr>\n",
       "    <tr>\n",
       "        <td>FMA111</td>\n",
       "    </tr>\n",
       "    <tr>\n",
       "        <td>FMA120</td>\n",
       "    </tr>\n",
       "    <tr>\n",
       "        <td>FMA125</td>\n",
       "    </tr>\n",
       "    <tr>\n",
       "        <td>FMA135</td>\n",
       "    </tr>\n",
       "    <tr>\n",
       "        <td>FMA140</td>\n",
       "    </tr>\n",
       "    <tr>\n",
       "        <td>FMA145</td>\n",
       "    </tr>\n",
       "    <tr>\n",
       "        <td>FMA170</td>\n",
       "    </tr>\n",
       "    <tr>\n",
       "        <td>FMA175</td>\n",
       "    </tr>\n",
       "    <tr>\n",
       "        <td>FMA200</td>\n",
       "    </tr>\n",
       "    <tr>\n",
       "        <td>FMA240</td>\n",
       "    </tr>\n",
       "    <tr>\n",
       "        <td>FMA270</td>\n",
       "    </tr>\n",
       "    <tr>\n",
       "        <td>FMA272</td>\n",
       "    </tr>\n",
       "    <tr>\n",
       "        <td>FMA420</td>\n",
       "    </tr>\n",
       "    <tr>\n",
       "        <td>FMA430</td>\n",
       "    </tr>\n",
       "    <tr>\n",
       "        <td>FMAA01</td>\n",
       "    </tr>\n",
       "    <tr>\n",
       "        <td>FMAF01</td>\n",
       "    </tr>\n",
       "    <tr>\n",
       "        <td>FMAF05</td>\n",
       "    </tr>\n",
       "    <tr>\n",
       "        <td>FMAF10</td>\n",
       "    </tr>\n",
       "    <tr>\n",
       "        <td>FMAN10</td>\n",
       "    </tr>\n",
       "</table>"
      ],
      "text/plain": [
       "[('FMA021',),\n",
       " ('FMA051',),\n",
       " ('FMA091',),\n",
       " ('FMA111',),\n",
       " ('FMA120',),\n",
       " ('FMA125',),\n",
       " ('FMA135',),\n",
       " ('FMA140',),\n",
       " ('FMA145',),\n",
       " ('FMA170',),\n",
       " ('FMA175',),\n",
       " ('FMA200',),\n",
       " ('FMA240',),\n",
       " ('FMA270',),\n",
       " ('FMA272',),\n",
       " ('FMA420',),\n",
       " ('FMA430',),\n",
       " ('FMAA01',),\n",
       " ('FMAF01',),\n",
       " ('FMAF05',),\n",
       " ('FMAF10',),\n",
       " ('FMAN10',)]"
      ]
     },
     "execution_count": 60,
     "metadata": {},
     "output_type": "execute_result"
    }
   ],
   "source": [
    "%%sql\n",
    "select course_code\n",
    "from courses \n",
    "where course_code like 'FMA%'"
   ]
  },
  {
   "cell_type": "markdown",
   "id": "76895ee4",
   "metadata": {},
   "source": [
    "g) Which courses give more than 7.5 credits? [16]"
   ]
  },
  {
   "cell_type": "code",
   "execution_count": 64,
   "id": "ec7c24bb",
   "metadata": {
    "attributes": {
     "classes": [
      "clear"
     ],
     "id": ""
    }
   },
   "outputs": [
    {
     "name": "stdout",
     "output_type": "stream",
     "text": [
      " * sqlite:///lab1.sqlite\n",
      "Done.\n"
     ]
    },
    {
     "data": {
      "text/html": [
       "<table>\n",
       "    <tr>\n",
       "        <th>course_code</th>\n",
       "        <th>credits</th>\n",
       "    </tr>\n",
       "    <tr>\n",
       "        <td>EDAA05</td>\n",
       "        <td>8.0</td>\n",
       "    </tr>\n",
       "    <tr>\n",
       "        <td>ETIA01</td>\n",
       "        <td>8.0</td>\n",
       "    </tr>\n",
       "    <tr>\n",
       "        <td>EDA270</td>\n",
       "        <td>9.0</td>\n",
       "    </tr>\n",
       "    <tr>\n",
       "        <td>EIT020</td>\n",
       "        <td>9.0</td>\n",
       "    </tr>\n",
       "    <tr>\n",
       "        <td>EITF01</td>\n",
       "        <td>9.0</td>\n",
       "    </tr>\n",
       "    <tr>\n",
       "        <td>ESS050</td>\n",
       "        <td>9.0</td>\n",
       "    </tr>\n",
       "    <tr>\n",
       "        <td>FMS012</td>\n",
       "        <td>9.0</td>\n",
       "    </tr>\n",
       "    <tr>\n",
       "        <td>MIOA01</td>\n",
       "        <td>9.0</td>\n",
       "    </tr>\n",
       "    <tr>\n",
       "        <td>EIEF01</td>\n",
       "        <td>10.0</td>\n",
       "    </tr>\n",
       "    <tr>\n",
       "        <td>EIEN01</td>\n",
       "        <td>10.0</td>\n",
       "    </tr>\n",
       "    <tr>\n",
       "        <td>FRTN01</td>\n",
       "        <td>10.0</td>\n",
       "    </tr>\n",
       "    <tr>\n",
       "        <td>FAFF25</td>\n",
       "        <td>11.0</td>\n",
       "    </tr>\n",
       "    <tr>\n",
       "        <td>EXTA35</td>\n",
       "        <td>15.0</td>\n",
       "    </tr>\n",
       "    <tr>\n",
       "        <td>EXTF60</td>\n",
       "        <td>15.0</td>\n",
       "    </tr>\n",
       "    <tr>\n",
       "        <td>FMAA01</td>\n",
       "        <td>15.0</td>\n",
       "    </tr>\n",
       "    <tr>\n",
       "        <td>GEMA70</td>\n",
       "        <td>15.0</td>\n",
       "    </tr>\n",
       "</table>"
      ],
      "text/plain": [
       "[('EDAA05', 8.0),\n",
       " ('ETIA01', 8.0),\n",
       " ('EDA270', 9.0),\n",
       " ('EIT020', 9.0),\n",
       " ('EITF01', 9.0),\n",
       " ('ESS050', 9.0),\n",
       " ('FMS012', 9.0),\n",
       " ('MIOA01', 9.0),\n",
       " ('EIEF01', 10.0),\n",
       " ('EIEN01', 10.0),\n",
       " ('FRTN01', 10.0),\n",
       " ('FAFF25', 11.0),\n",
       " ('EXTA35', 15.0),\n",
       " ('EXTF60', 15.0),\n",
       " ('FMAA01', 15.0),\n",
       " ('GEMA70', 15.0)]"
      ]
     },
     "execution_count": 64,
     "metadata": {},
     "output_type": "execute_result"
    }
   ],
   "source": [
    "%%sql\n",
    "select course_code, credits \n",
    "from courses\n",
    "group by credits, course_code\n",
    "having credits >7.5\n"
   ]
  },
  {
   "cell_type": "markdown",
   "id": "5df24d35",
   "metadata": {},
   "source": [
    "h) How may courses are there for each level (`G1`, `G2`, and\n",
    "   `A`)?"
   ]
  },
  {
   "cell_type": "code",
   "execution_count": null,
   "id": "1ed3fc85",
   "metadata": {
    "attributes": {
     "classes": [
      "clear"
     ],
     "id": ""
    }
   },
   "outputs": [],
   "source": [
    "%%sql\n",
    "select course_name, course_code, level, count()\n",
    "from courses\n",
    "group by level\n"
   ]
  },
  {
   "cell_type": "markdown",
   "id": "68437101",
   "metadata": {},
   "source": [
    "In the next few problems, we'll look at the results of the\n",
    "student with the social security number 910101–1234 -- to\n",
    "make things _a lot_ easier, you can create a `VIEW` with all\n",
    "his results."
   ]
  },
  {
   "cell_type": "code",
   "execution_count": null,
   "id": "e0dda75e",
   "metadata": {
    "attributes": {
     "classes": [
      "clear"
     ],
     "id": ""
    }
   },
   "outputs": [],
   "source": [
    "%%sql\n",
    "DROP VIEW IF EXISTS ...;\n",
    "CREATE VIEW ... AS"
   ]
  },
  {
   "cell_type": "markdown",
   "id": "79926465",
   "metadata": {},
   "source": [
    "i) Which courses (course codes only) have been taken by the\n",
    "   student with the social security number 910101–1234? [35]"
   ]
  },
  {
   "cell_type": "code",
   "execution_count": null,
   "id": "ec6b8a0b",
   "metadata": {
    "attributes": {
     "classes": [
      "clear"
     ],
     "id": ""
    }
   },
   "outputs": [],
   "source": [
    "%%sql\n"
   ]
  },
  {
   "cell_type": "markdown",
   "id": "3aa1000e",
   "metadata": {},
   "source": [
    "j) What are the names of these courses, and how many credits\n",
    "   do they give?"
   ]
  },
  {
   "cell_type": "code",
   "execution_count": null,
   "id": "f67cc264",
   "metadata": {
    "attributes": {
     "classes": [
      "clear"
     ],
     "id": ""
    }
   },
   "outputs": [],
   "source": [
    "%%sql\n"
   ]
  },
  {
   "cell_type": "markdown",
   "id": "c0ec33b6",
   "metadata": {},
   "source": [
    "k) How many credits has the student taken?"
   ]
  },
  {
   "cell_type": "code",
   "execution_count": null,
   "id": "d6ba4be1",
   "metadata": {
    "attributes": {
     "classes": [
      "clear"
     ],
     "id": ""
    }
   },
   "outputs": [],
   "source": [
    "%%sql\n"
   ]
  },
  {
   "cell_type": "markdown",
   "id": "8b143068",
   "metadata": {},
   "source": [
    "l) What is the student’s grade average? We can calculate the\n",
    "   average either just as the average of all grades\n",
    "   (unweighted), or use the credits for each course as a\n",
    "   weight and calculate a weighted average. Try to do the\n",
    "   calculation both ways (the weighted average can be\n",
    "   calculated in just one line of code, but we only require\n",
    "   that you calculate the unweighted average, so don't spend\n",
    "   too much time on getting the weighted average right)."
   ]
  },
  {
   "cell_type": "code",
   "execution_count": null,
   "id": "2fe8dee8",
   "metadata": {
    "attributes": {
     "classes": [
      "clear"
     ],
     "id": ""
    }
   },
   "outputs": [],
   "source": [
    "%%sql\n"
   ]
  },
  {
   "cell_type": "markdown",
   "id": "861164e7",
   "metadata": {},
   "source": [
    "m) Which students have taken 0 credits? [11] This problem\n",
    "   can be solved in several ways, first do it with an outer\n",
    "   join:"
   ]
  },
  {
   "cell_type": "code",
   "execution_count": null,
   "id": "b2b1d32c",
   "metadata": {
    "attributes": {
     "classes": [
      "clear"
     ],
     "id": ""
    }
   },
   "outputs": [],
   "source": [
    "%%sql\n"
   ]
  },
  {
   "cell_type": "markdown",
   "id": "92681108",
   "metadata": {},
   "source": [
    "Now do the same thing using a subquery:"
   ]
  },
  {
   "cell_type": "code",
   "execution_count": null,
   "id": "f5177550",
   "metadata": {
    "attributes": {
     "classes": [
      "clear"
     ],
     "id": ""
    }
   },
   "outputs": [],
   "source": [
    "%%sql\n"
   ]
  },
  {
   "cell_type": "markdown",
   "id": "0949c130",
   "metadata": {},
   "source": [
    "n) List the names and average grades of the 10 students with\n",
    "   the highest grade average? You can use the unweighted\n",
    "   average."
   ]
  },
  {
   "cell_type": "code",
   "execution_count": null,
   "id": "17463741",
   "metadata": {
    "attributes": {
     "classes": [
      "clear"
     ],
     "id": ""
    }
   },
   "outputs": [],
   "source": [
    "%%sql\n"
   ]
  },
  {
   "cell_type": "markdown",
   "id": "6054c197",
   "metadata": {},
   "source": [
    "o) List the social security number and total number of\n",
    "   credits for all students. Students with no credits should\n",
    "   be included in the listing, with 0 credits (not `NULL`).\n",
    "\n",
    "   If you do this with an outer join (and I recommend you\n",
    "   try it!) you might want to use the function\n",
    "   `coalesce(v1, v2, ...)`; it returns the first value which\n",
    "   is not `NULL`, so `coalesce(avg(grade), 0)` would give 0\n",
    "   if the were no grades (i.e., if `grade` were `NULL`), you\n",
    "   can also try the `ifnull` function.\n",
    "\n",
    "   (It may be a little bit tricky to get this query right,\n",
    "   if you're missing the students with 0 credits, don't\n",
    "   worry, your TA will help you get it right). [72]"
   ]
  },
  {
   "cell_type": "code",
   "execution_count": null,
   "id": "02b509b9",
   "metadata": {
    "attributes": {
     "classes": [
      "clear"
     ],
     "id": ""
    }
   },
   "outputs": [],
   "source": [
    "%%sql\n"
   ]
  },
  {
   "cell_type": "markdown",
   "id": "1668a1e1",
   "metadata": {},
   "source": [
    "p) Do all students have unique names (first name _and_ last\n",
    "   name)? If not, show the full name and social security\n",
    "   number for all students who have a namesake. [7]\n",
    "\n",
    "   As usual there are several ways of solving this, try to\n",
    "   solve it using a `WITH`-statement where you create a\n",
    "   table with all duplicate names, and then use it in a\n",
    "   `JOIN`:"
   ]
  },
  {
   "cell_type": "code",
   "execution_count": null,
   "id": "fb3bd203",
   "metadata": {
    "attributes": {
     "classes": [
      "clear"
     ],
     "id": ""
    }
   },
   "outputs": [],
   "source": [
    "%%sql\n"
   ]
  },
  {
   "cell_type": "markdown",
   "id": "410ea095",
   "metadata": {},
   "source": [
    "q) _Optional:_ List all students who have a an average grade\n",
    "   higher than the average of all other students with the\n",
    "   same first name. Try to use weighted averages for the\n",
    "   invididual students, and compare to just the average of\n",
    "   averages for the namesakes (we could have weighted their\n",
    "   averages according to how many total credits they have,\n",
    "   but that would be a bit over the top). Here you can use\n",
    "   either a correlated subquery, or a CTE and a `JOIN`."
   ]
  },
  {
   "cell_type": "code",
   "execution_count": null,
   "id": "36586803",
   "metadata": {
    "attributes": {
     "classes": [
      "clear"
     ],
     "id": ""
    }
   },
   "outputs": [],
   "source": [
    "%%sql\n"
   ]
  }
 ],
 "metadata": {
  "kernelspec": {
   "display_name": "Python 3 (ipykernel)",
   "language": "python",
   "name": "python3"
  },
  "language_info": {
   "codemirror_mode": {
    "name": "ipython",
    "version": 3
   },
   "file_extension": ".py",
   "mimetype": "text/x-python",
   "name": "python",
   "nbconvert_exporter": "python",
   "pygments_lexer": "ipython3",
   "version": "3.10.1"
  }
 },
 "nbformat": 4,
 "nbformat_minor": 5
}
