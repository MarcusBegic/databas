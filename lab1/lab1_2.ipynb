{
 "cells": [
  {
   "cell_type": "markdown",
   "id": "87046e51",
   "metadata": {},
   "source": [
    "<!-- -*- mode: markdown; coding: utf-8; fill-column: 60; ispell-dictionary: \"english\" -*- -->\n",
    "\n",
    "<meta charset=\"utf-8\"/>\n",
    "<meta name=\"viewport\" content=\"width=device-width,initial-scale=1\"/>\n",
    "<link rel=\"stylesheet\" href=\"style.css\">\n",
    "\n",
    "\n",
    "# EDAF75 - lab 1: SQL\n",
    "\n",
    "This lab is meant to be run as a `jupyter` notebook, you\n",
    "could download it [here](lab1.zip) (the zip-file contains\n",
    "the notebook and the database, and a [.html-file](lab1.html)\n",
    "which you can read in case you have problems reading/running\n",
    "jupyter notebooks).\n",
    "\n",
    "To start your notebook, you can use the following commands\n",
    "(after you've downloaded [the zip file](lab1.zip)):"
   ]
  },
  {
   "cell_type": "markdown",
   "id": "5f0722ad",
   "metadata": {},
   "source": [
    "```sh\n",
    "unzip lab1.zip\n",
    "jupyter notebook\n",
    "```\n"
   ]
  },
  {
   "cell_type": "markdown",
   "id": "ec88077b",
   "metadata": {},
   "source": [
    "This should start jupyter in a browser tab, and there you\n",
    "can click \"lab1.ipynb\".\n",
    "\n",
    "\n",
    "## Background\n",
    "\n",
    "We have a database to handle the academic achievements of\n",
    "students at LTH -- in it we have three tables:\n",
    "\n",
    "<hr>\n",
    "<table rules=\"all\">\n",
    " <tr>\n",
    "  <th align=\"left\"><code>students:</code></th>\n",
    "  <th></th>\n",
    " </tr>\n",
    " <tr>\n",
    "  <td><code>ssn</code></td>\n",
    "  <td>social security number</td>\n",
    " </tr>\n",
    " <tr>\n",
    "  <td><code>first_name</code></td>\n",
    "  <td>first name (obviously!)</td>\n",
    " </tr>\n",
    " <tr>\n",
    "  <td><code>last_name</code></td>\n",
    "  <td>last name</td>\n",
    " </tr>\n",
    "</table>\n",
    "\n",
    "<hr>\n",
    "\n",
    "<table rules=\"all\">\n",
    " <tr>\n",
    "  <th align=\"left\"><code>courses:</code></th>\n",
    "  <th></th>\n",
    " </tr>\n",
    " <tr>\n",
    "  <td><code>course_code</code></td>\n",
    "  <td>course code, like <code>EDAF75</code></td>\n",
    " </tr>\n",
    " <tr>\n",
    "  <td><code>course_name</code></td>\n",
    "  <td>the name of the course, like \"Database Technology\"</td>\n",
    " </tr>\n",
    " <tr>\n",
    "  <td><code>level</code></td>\n",
    "  <td>the course level, like \"G1\", \"G2\", or \"A\"</td>\n",
    " </tr>\n",
    " <tr>\n",
    "  <td><code>credits</code></td>\n",
    "  <td>the number of credits for the course, like 7.5</td>\n",
    " </tr>\n",
    "</table>\n",
    "\n",
    "<hr>\n",
    "\n",
    "<table rules=\"all\">\n",
    " <tr>\n",
    "  <th align=\"left\"><code>taken_courses:</code></th>\n",
    "  <th></th>\n",
    " </tr>\n",
    " <tr>\n",
    "  <td><code>ssn</code></td>\n",
    "  <td>the social security number of a student</td>\n",
    " </tr>\n",
    " <tr>\n",
    "  <td><code>course_code</code></td>\n",
    "  <td>the course code for the course the student has taken</td>\n",
    " </tr>\n",
    " <tr>\n",
    "  <td><code>grade</code></td>\n",
    "  <td>the grade for the student passing the course</td>\n",
    " </tr>\n",
    "</table>\n",
    "\n",
    "<hr>\n",
    "\n",
    "<center>\n",
    "  <img src=\"lab1.png\">\n",
    "</center>\n",
    "\n",
    "Some sample data:"
   ]
  },
  {
   "cell_type": "markdown",
   "id": "e581133c",
   "metadata": {},
   "source": [
    "```text\n",
    "ssn           first_name   last_name\n",
    "---           ----------   ---------\n",
    "861103–2438   Bo           Ek\n",
    "911212–1746   Eva          Alm\n",
    "950829–1848   Anna         Nyström\n",
    "...           ...          ...\n",
    "\n",
    "course_code   course_name                   level    credits\n",
    "-----------   -----------                   -----    -------\n",
    "EDA016        Programmeringsteknik          G1       7.5\n",
    "EDAA01        Programmeringsteknik - FK     G1       7.5\n",
    "EDA230        Optimerande kompilatorer      A        7.5\n",
    "...           ...                           ...      ...\n",
    "\n",
    "ssn           course_code   grade\n",
    "---           -----------   -----\n",
    "861103–2438   EDA016        4\n",
    "861103–2438   EDAA01        3\n",
    "911212–1746   EDA016        3\n",
    "...           ...           ...\n",
    "```\n"
   ]
  },
  {
   "cell_type": "markdown",
   "id": "9f0f7e3a",
   "metadata": {},
   "source": [
    "The tables have been created with the following SQL\n",
    "statements:"
   ]
  },
  {
   "cell_type": "markdown",
   "id": "b6eb45a6",
   "metadata": {},
   "source": [
    "```sql\n",
    "CREATE TABLE students (\n",
    "  ssn          CHAR(11),\n",
    "  first_name   TEXT NOT NULL,\n",
    "  last_name    TEXT NOT NULL,\n",
    "  PRIMARY KEY  (ssn)\n",
    ");\n",
    "\n",
    "CREATE TABLE courses (\n",
    "  course_code   CHAR(6),\n",
    "  course_name   TEXT NOT NULL,\n",
    "  level         CHAR(2),\n",
    "  credits       DOUBLE NOT NULL CHECK (credits > 0),\n",
    "  PRIMARY KEY   (course_code)\n",
    ");\n",
    "\n",
    "CREATE TABLE taken_courses (\n",
    "  ssn           CHAR(11),\n",
    "  course_code   CHAR(6),\n",
    "  grade         INTEGER NOT NULL CHECK (grade >= 3 AND grade <= 5),\n",
    "  PRIMARY KEY   (ssn, course_code),\n",
    "  FOREIGN KEY   (ssn) REFERENCES students(ssn),\n",
    "  FOREIGN KEY   (course_code) REFERENCES courses(course_code)\n",
    ");\n",
    "```\n"
   ]
  },
  {
   "cell_type": "markdown",
   "id": "948bdc13",
   "metadata": {},
   "source": [
    "All courses offered at the \"Computer Science and\n",
    "Engineering\" program at LTH during the academic year 2013/14\n",
    "are in the table 'courses`. Also, the database has been\n",
    "filled with made up data. SQL statements like the following\n",
    "have been used to insert the data:"
   ]
  },
  {
   "cell_type": "markdown",
   "id": "f87445bf",
   "metadata": {},
   "source": [
    "```sql\n",
    "INTO   students(ssn, first_name, last_name)\n",
    "VALUES ('950705-2308', 'Anna', 'Johansson'),\n",
    "       ('930702-3582', 'Anna', 'Johansson'),\n",
    "       ('911212-1746', 'Eva', 'Alm'),\n",
    "       ('910707-3787', 'Eva', 'Nilsson'),\n",
    "       ...\n",
    "```\n"
   ]
  },
  {
   "cell_type": "markdown",
   "id": "bb4b57a3",
   "metadata": {},
   "source": [
    "## Assignments\n",
    "\n",
    "As said above, this lab is designed to be run as a jupyter\n",
    "notebook. If you haven't got jupyter running, you can run\n",
    "the sql-commands for the problems below interactively inside\n",
    "sqlite3, or as a script file with all your commands, or\n",
    "inside some IDE, like [DB Browser for\n",
    "SQLite](https://sqlitebrowser.org/).\n",
    "\n",
    "If you're running the lab as a notebook (and hopefully you\n",
    "are!), evaluate the following cells before you begin:"
   ]
  },
  {
   "cell_type": "code",
   "execution_count": 57,
   "id": "514b5b02",
   "metadata": {},
   "outputs": [
    {
     "name": "stdout",
     "output_type": "stream",
     "text": [
      "The sql extension is already loaded. To reload it, use:\n",
      "  %reload_ext sql\n"
     ]
    }
   ],
   "source": [
    "%load_ext sql"
   ]
  },
  {
   "cell_type": "code",
   "execution_count": 58,
   "id": "5419151c",
   "metadata": {},
   "outputs": [],
   "source": [
    "%sql sqlite:///lab1.sqlite"
   ]
  },
  {
   "cell_type": "markdown",
   "id": "ae65f43b",
   "metadata": {},
   "source": [
    "The tables `students`, `courses` and `taken_courses` are\n",
    "already in your database, you can see some of their contents\n",
    "by running the cells below:"
   ]
  },
  {
   "cell_type": "code",
   "execution_count": 59,
   "id": "6ca94cee",
   "metadata": {},
   "outputs": [
    {
     "name": "stdout",
     "output_type": "stream",
     "text": [
      " * sqlite:///lab1.sqlite\n",
      "Done.\n"
     ]
    },
    {
     "data": {
      "text/html": [
       "<table>\n",
       "    <tr>\n",
       "        <th>ssn</th>\n",
       "        <th>first_name</th>\n",
       "        <th>last_name</th>\n",
       "    </tr>\n",
       "    <tr>\n",
       "        <td>950705-2308</td>\n",
       "        <td>Anna</td>\n",
       "        <td>Johansson</td>\n",
       "    </tr>\n",
       "    <tr>\n",
       "        <td>930702-3582</td>\n",
       "        <td>Anna</td>\n",
       "        <td>Johansson</td>\n",
       "    </tr>\n",
       "    <tr>\n",
       "        <td>911212-1746</td>\n",
       "        <td>Eva</td>\n",
       "        <td>Alm</td>\n",
       "    </tr>\n",
       "    <tr>\n",
       "        <td>910707-3787</td>\n",
       "        <td>Eva</td>\n",
       "        <td>Nilsson</td>\n",
       "    </tr>\n",
       "</table>"
      ],
      "text/plain": [
       "[('950705-2308', 'Anna', 'Johansson'),\n",
       " ('930702-3582', 'Anna', 'Johansson'),\n",
       " ('911212-1746', 'Eva', 'Alm'),\n",
       " ('910707-3787', 'Eva', 'Nilsson')]"
      ]
     },
     "execution_count": 59,
     "metadata": {},
     "output_type": "execute_result"
    }
   ],
   "source": [
    "%%sql\n",
    "SELECT  *\n",
    "FROM    students\n",
    "LIMIT   4"
   ]
  },
  {
   "cell_type": "code",
   "execution_count": 60,
   "id": "aae8d0db",
   "metadata": {},
   "outputs": [
    {
     "name": "stdout",
     "output_type": "stream",
     "text": [
      " * sqlite:///lab1.sqlite\n",
      "Done.\n"
     ]
    },
    {
     "data": {
      "text/html": [
       "<table>\n",
       "    <tr>\n",
       "        <th>course_code</th>\n",
       "        <th>course_name</th>\n",
       "        <th>level</th>\n",
       "        <th>credits</th>\n",
       "    </tr>\n",
       "    <tr>\n",
       "        <td>EDA016</td>\n",
       "        <td>Programmeringsteknik</td>\n",
       "        <td>G1</td>\n",
       "        <td>7.5</td>\n",
       "    </tr>\n",
       "    <tr>\n",
       "        <td>EDA031</td>\n",
       "        <td>C++ - programmering</td>\n",
       "        <td>G2</td>\n",
       "        <td>7.5</td>\n",
       "    </tr>\n",
       "    <tr>\n",
       "        <td>EDA040</td>\n",
       "        <td>Realtidsprogrammering</td>\n",
       "        <td>G2</td>\n",
       "        <td>6.0</td>\n",
       "    </tr>\n",
       "    <tr>\n",
       "        <td>EDA050</td>\n",
       "        <td>Operativsystem</td>\n",
       "        <td>G2</td>\n",
       "        <td>4.5</td>\n",
       "    </tr>\n",
       "</table>"
      ],
      "text/plain": [
       "[('EDA016', 'Programmeringsteknik', 'G1', 7.5),\n",
       " ('EDA031', 'C++ - programmering', 'G2', 7.5),\n",
       " ('EDA040', 'Realtidsprogrammering', 'G2', 6.0),\n",
       " ('EDA050', 'Operativsystem', 'G2', 4.5)]"
      ]
     },
     "execution_count": 60,
     "metadata": {},
     "output_type": "execute_result"
    }
   ],
   "source": [
    "%%sql\n",
    "SELECT  *\n",
    "FROM    courses\n",
    "LIMIT   4"
   ]
  },
  {
   "cell_type": "code",
   "execution_count": 61,
   "id": "098f8525",
   "metadata": {},
   "outputs": [
    {
     "name": "stdout",
     "output_type": "stream",
     "text": [
      " * sqlite:///lab1.sqlite\n",
      "Done.\n"
     ]
    },
    {
     "data": {
      "text/html": [
       "<table>\n",
       "    <tr>\n",
       "        <th>ssn</th>\n",
       "        <th>course_code</th>\n",
       "        <th>grade</th>\n",
       "    </tr>\n",
       "    <tr>\n",
       "        <td>950705-2308</td>\n",
       "        <td>EITN35</td>\n",
       "        <td>5</td>\n",
       "    </tr>\n",
       "    <tr>\n",
       "        <td>950705-2308</td>\n",
       "        <td>ESS050</td>\n",
       "        <td>3</td>\n",
       "    </tr>\n",
       "    <tr>\n",
       "        <td>950705-2308</td>\n",
       "        <td>ETIN70</td>\n",
       "        <td>4</td>\n",
       "    </tr>\n",
       "    <tr>\n",
       "        <td>950705-2308</td>\n",
       "        <td>FMA140</td>\n",
       "        <td>4</td>\n",
       "    </tr>\n",
       "</table>"
      ],
      "text/plain": [
       "[('950705-2308', 'EITN35', 5),\n",
       " ('950705-2308', 'ESS050', 3),\n",
       " ('950705-2308', 'ETIN70', 4),\n",
       " ('950705-2308', 'FMA140', 4)]"
      ]
     },
     "execution_count": 61,
     "metadata": {},
     "output_type": "execute_result"
    }
   ],
   "source": [
    "%%sql\n",
    "SELECT  *\n",
    "FROM    taken_courses\n",
    "LIMIT   4"
   ]
  },
  {
   "cell_type": "markdown",
   "id": "e4fa99b2",
   "metadata": {},
   "source": [
    "If you inadvertently change the contents of the tables, you\n",
    "can always recreate the them with the following command (it\n",
    "must be run at the command line):"
   ]
  },
  {
   "cell_type": "markdown",
   "id": "a1197263",
   "metadata": {},
   "source": [
    "```sh\n",
    "sqlite3 lab1.sqlite < lab1-setup.sql\n",
    "```\n"
   ]
  },
  {
   "cell_type": "markdown",
   "id": "d8e9d853",
   "metadata": {},
   "source": [
    "After some of the questions there is a number in brackets.\n",
    "This is the number of rows generated by the question. For\n",
    "instance, [72] after question a) means that there are 72\n",
    "students in the database, you can use that number as an\n",
    "indicatation of if your answer is in the right ballpark.\n",
    "\n",
    "a) What are the names (first name, last name) of all the\n",
    "   students? [72]"
   ]
  },
  {
   "cell_type": "code",
   "execution_count": 62,
   "id": "d6c65535",
   "metadata": {},
   "outputs": [
    {
     "name": "stdout",
     "output_type": "stream",
     "text": [
      " * sqlite:///lab1.sqlite\n",
      "Done.\n"
     ]
    },
    {
     "data": {
      "text/html": [
       "<table>\n",
       "    <tr>\n",
       "        <th>first_name</th>\n",
       "        <th>last_name</th>\n",
       "    </tr>\n",
       "    <tr>\n",
       "        <td>Anna</td>\n",
       "        <td>Johansson</td>\n",
       "    </tr>\n",
       "    <tr>\n",
       "        <td>Anna</td>\n",
       "        <td>Johansson</td>\n",
       "    </tr>\n",
       "    <tr>\n",
       "        <td>Eva</td>\n",
       "        <td>Alm</td>\n",
       "    </tr>\n",
       "    <tr>\n",
       "        <td>Eva</td>\n",
       "        <td>Nilsson</td>\n",
       "    </tr>\n",
       "    <tr>\n",
       "        <td>Elaine</td>\n",
       "        <td>Robertson</td>\n",
       "    </tr>\n",
       "    <tr>\n",
       "        <td>Maria</td>\n",
       "        <td>Nordman</td>\n",
       "    </tr>\n",
       "    <tr>\n",
       "        <td>Helena</td>\n",
       "        <td>Troberg</td>\n",
       "    </tr>\n",
       "    <tr>\n",
       "        <td>Lotta</td>\n",
       "        <td>Emanuelsson</td>\n",
       "    </tr>\n",
       "    <tr>\n",
       "        <td>Anna</td>\n",
       "        <td>Nyström</td>\n",
       "    </tr>\n",
       "    <tr>\n",
       "        <td>Maria</td>\n",
       "        <td>Andersson</td>\n",
       "    </tr>\n",
       "    <tr>\n",
       "        <td>Marie</td>\n",
       "        <td>Persson</td>\n",
       "    </tr>\n",
       "    <tr>\n",
       "        <td>Märit</td>\n",
       "        <td>Aspegren</td>\n",
       "    </tr>\n",
       "    <tr>\n",
       "        <td>Ylva</td>\n",
       "        <td>Jacobsson</td>\n",
       "    </tr>\n",
       "    <tr>\n",
       "        <td>Frida</td>\n",
       "        <td>Weidel</td>\n",
       "    </tr>\n",
       "    <tr>\n",
       "        <td>Caroline</td>\n",
       "        <td>Olsson</td>\n",
       "    </tr>\n",
       "    <tr>\n",
       "        <td>Karolin</td>\n",
       "        <td>Ek</td>\n",
       "    </tr>\n",
       "    <tr>\n",
       "        <td>Eva</td>\n",
       "        <td>Hjort</td>\n",
       "    </tr>\n",
       "    <tr>\n",
       "        <td>Sofia</td>\n",
       "        <td>Kjellberg</td>\n",
       "    </tr>\n",
       "    <tr>\n",
       "        <td>Tina</td>\n",
       "        <td>Lööf</td>\n",
       "    </tr>\n",
       "    <tr>\n",
       "        <td>Lisa</td>\n",
       "        <td>Berg</td>\n",
       "    </tr>\n",
       "    <tr>\n",
       "        <td>Lotta</td>\n",
       "        <td>Bergman</td>\n",
       "    </tr>\n",
       "    <tr>\n",
       "        <td>Susanne</td>\n",
       "        <td>Dahl</td>\n",
       "    </tr>\n",
       "    <tr>\n",
       "        <td>Birgit</td>\n",
       "        <td>Ewesson</td>\n",
       "    </tr>\n",
       "    <tr>\n",
       "        <td>Ulrika</td>\n",
       "        <td>Jonsson</td>\n",
       "    </tr>\n",
       "    <tr>\n",
       "        <td>Jenny</td>\n",
       "        <td>Lundin</td>\n",
       "    </tr>\n",
       "    <tr>\n",
       "        <td>Karin</td>\n",
       "        <td>Östberg</td>\n",
       "    </tr>\n",
       "    <tr>\n",
       "        <td>Bo</td>\n",
       "        <td>Ek</td>\n",
       "    </tr>\n",
       "    <tr>\n",
       "        <td>Bo</td>\n",
       "        <td>Ek</td>\n",
       "    </tr>\n",
       "    <tr>\n",
       "        <td>Bo</td>\n",
       "        <td>Ek</td>\n",
       "    </tr>\n",
       "    <tr>\n",
       "        <td>Erik</td>\n",
       "        <td>Andersson</td>\n",
       "    </tr>\n",
       "    <tr>\n",
       "        <td>Erik</td>\n",
       "        <td>Andersson</td>\n",
       "    </tr>\n",
       "    <tr>\n",
       "        <td>Filip</td>\n",
       "        <td>Gustavsson</td>\n",
       "    </tr>\n",
       "    <tr>\n",
       "        <td>Niklas</td>\n",
       "        <td>Andersson</td>\n",
       "    </tr>\n",
       "    <tr>\n",
       "        <td>David</td>\n",
       "        <td>Carlsson</td>\n",
       "    </tr>\n",
       "    <tr>\n",
       "        <td>Tobias</td>\n",
       "        <td>Enberg</td>\n",
       "    </tr>\n",
       "    <tr>\n",
       "        <td>Johan</td>\n",
       "        <td>Lind</td>\n",
       "    </tr>\n",
       "    <tr>\n",
       "        <td>Magnus</td>\n",
       "        <td>Pettersson</td>\n",
       "    </tr>\n",
       "    <tr>\n",
       "        <td>Filip</td>\n",
       "        <td>Persson</td>\n",
       "    </tr>\n",
       "    <tr>\n",
       "        <td>Ola</td>\n",
       "        <td>Nilsson</td>\n",
       "    </tr>\n",
       "    <tr>\n",
       "        <td>Jakob</td>\n",
       "        <td>Malmberg</td>\n",
       "    </tr>\n",
       "    <tr>\n",
       "        <td>Henrik</td>\n",
       "        <td>Berg</td>\n",
       "    </tr>\n",
       "    <tr>\n",
       "        <td>John</td>\n",
       "        <td>Lind</td>\n",
       "    </tr>\n",
       "    <tr>\n",
       "        <td>Patrik</td>\n",
       "        <td>Lundh</td>\n",
       "    </tr>\n",
       "    <tr>\n",
       "        <td>Mikael</td>\n",
       "        <td>Nilsson</td>\n",
       "    </tr>\n",
       "    <tr>\n",
       "        <td>Joakim</td>\n",
       "        <td>Nilsson</td>\n",
       "    </tr>\n",
       "    <tr>\n",
       "        <td>Conny</td>\n",
       "        <td>Modig</td>\n",
       "    </tr>\n",
       "    <tr>\n",
       "        <td>Christian</td>\n",
       "        <td>Wallman</td>\n",
       "    </tr>\n",
       "    <tr>\n",
       "        <td>Magnus</td>\n",
       "        <td>Strömgren</td>\n",
       "    </tr>\n",
       "    <tr>\n",
       "        <td>Daniel</td>\n",
       "        <td>Ahlman</td>\n",
       "    </tr>\n",
       "    <tr>\n",
       "        <td>Lars</td>\n",
       "        <td>Molin</td>\n",
       "    </tr>\n",
       "    <tr>\n",
       "        <td>Magnus</td>\n",
       "        <td>Nilsson</td>\n",
       "    </tr>\n",
       "    <tr>\n",
       "        <td>Anders</td>\n",
       "        <td>Olsson</td>\n",
       "    </tr>\n",
       "    <tr>\n",
       "        <td>Martin</td>\n",
       "        <td>Alm</td>\n",
       "    </tr>\n",
       "    <tr>\n",
       "        <td>Håkan</td>\n",
       "        <td>Mossgren</td>\n",
       "    </tr>\n",
       "    <tr>\n",
       "        <td>Fredrik</td>\n",
       "        <td>Ryd</td>\n",
       "    </tr>\n",
       "    <tr>\n",
       "        <td>Mats</td>\n",
       "        <td>Wikström</td>\n",
       "    </tr>\n",
       "    <tr>\n",
       "        <td>Anders</td>\n",
       "        <td>Magnusson</td>\n",
       "    </tr>\n",
       "    <tr>\n",
       "        <td>Andreas</td>\n",
       "        <td>Molin</td>\n",
       "    </tr>\n",
       "    <tr>\n",
       "        <td>Johan</td>\n",
       "        <td>Brattberg</td>\n",
       "    </tr>\n",
       "    <tr>\n",
       "        <td>Johan</td>\n",
       "        <td>Olsson</td>\n",
       "    </tr>\n",
       "    <tr>\n",
       "        <td>Jonathan</td>\n",
       "        <td>Jönsson</td>\n",
       "    </tr>\n",
       "    <tr>\n",
       "        <td>Magnus</td>\n",
       "        <td>Hultgren</td>\n",
       "    </tr>\n",
       "    <tr>\n",
       "        <td>Axel</td>\n",
       "        <td>Nord</td>\n",
       "    </tr>\n",
       "    <tr>\n",
       "        <td>Henrik</td>\n",
       "        <td>Hult</td>\n",
       "    </tr>\n",
       "    <tr>\n",
       "        <td>Joakim</td>\n",
       "        <td>Hall</td>\n",
       "    </tr>\n",
       "    <tr>\n",
       "        <td>Henrik</td>\n",
       "        <td>Gustavsson</td>\n",
       "    </tr>\n",
       "    <tr>\n",
       "        <td>Torbjörn</td>\n",
       "        <td>Modig</td>\n",
       "    </tr>\n",
       "    <tr>\n",
       "        <td>Daniel</td>\n",
       "        <td>Axelsson</td>\n",
       "    </tr>\n",
       "    <tr>\n",
       "        <td>Per-Erik</td>\n",
       "        <td>Pettersson</td>\n",
       "    </tr>\n",
       "    <tr>\n",
       "        <td>Roger</td>\n",
       "        <td>Brorsson</td>\n",
       "    </tr>\n",
       "    <tr>\n",
       "        <td>Patrik</td>\n",
       "        <td>Ohlsson</td>\n",
       "    </tr>\n",
       "    <tr>\n",
       "        <td>Peter</td>\n",
       "        <td>Solberg</td>\n",
       "    </tr>\n",
       "</table>"
      ],
      "text/plain": [
       "[('Anna', 'Johansson'),\n",
       " ('Anna', 'Johansson'),\n",
       " ('Eva', 'Alm'),\n",
       " ('Eva', 'Nilsson'),\n",
       " ('Elaine', 'Robertson'),\n",
       " ('Maria', 'Nordman'),\n",
       " ('Helena', 'Troberg'),\n",
       " ('Lotta', 'Emanuelsson'),\n",
       " ('Anna', 'Nyström'),\n",
       " ('Maria', 'Andersson'),\n",
       " ('Marie', 'Persson'),\n",
       " ('Märit', 'Aspegren'),\n",
       " ('Ylva', 'Jacobsson'),\n",
       " ('Frida', 'Weidel'),\n",
       " ('Caroline', 'Olsson'),\n",
       " ('Karolin', 'Ek'),\n",
       " ('Eva', 'Hjort'),\n",
       " ('Sofia', 'Kjellberg'),\n",
       " ('Tina', 'Lööf'),\n",
       " ('Lisa', 'Berg'),\n",
       " ('Lotta', 'Bergman'),\n",
       " ('Susanne', 'Dahl'),\n",
       " ('Birgit', 'Ewesson'),\n",
       " ('Ulrika', 'Jonsson'),\n",
       " ('Jenny', 'Lundin'),\n",
       " ('Karin', 'Östberg'),\n",
       " ('Bo', 'Ek'),\n",
       " ('Bo', 'Ek'),\n",
       " ('Bo', 'Ek'),\n",
       " ('Erik', 'Andersson'),\n",
       " ('Erik', 'Andersson'),\n",
       " ('Filip', 'Gustavsson'),\n",
       " ('Niklas', 'Andersson'),\n",
       " ('David', 'Carlsson'),\n",
       " ('Tobias', 'Enberg'),\n",
       " ('Johan', 'Lind'),\n",
       " ('Magnus', 'Pettersson'),\n",
       " ('Filip', 'Persson'),\n",
       " ('Ola', 'Nilsson'),\n",
       " ('Jakob', 'Malmberg'),\n",
       " ('Henrik', 'Berg'),\n",
       " ('John', 'Lind'),\n",
       " ('Patrik', 'Lundh'),\n",
       " ('Mikael', 'Nilsson'),\n",
       " ('Joakim', 'Nilsson'),\n",
       " ('Conny', 'Modig'),\n",
       " ('Christian', 'Wallman'),\n",
       " ('Magnus', 'Strömgren'),\n",
       " ('Daniel', 'Ahlman'),\n",
       " ('Lars', 'Molin'),\n",
       " ('Magnus', 'Nilsson'),\n",
       " ('Anders', 'Olsson'),\n",
       " ('Martin', 'Alm'),\n",
       " ('Håkan', 'Mossgren'),\n",
       " ('Fredrik', 'Ryd'),\n",
       " ('Mats', 'Wikström'),\n",
       " ('Anders', 'Magnusson'),\n",
       " ('Andreas', 'Molin'),\n",
       " ('Johan', 'Brattberg'),\n",
       " ('Johan', 'Olsson'),\n",
       " ('Jonathan', 'Jönsson'),\n",
       " ('Magnus', 'Hultgren'),\n",
       " ('Axel', 'Nord'),\n",
       " ('Henrik', 'Hult'),\n",
       " ('Joakim', 'Hall'),\n",
       " ('Henrik', 'Gustavsson'),\n",
       " ('Torbjörn', 'Modig'),\n",
       " ('Daniel', 'Axelsson'),\n",
       " ('Per-Erik', 'Pettersson'),\n",
       " ('Roger', 'Brorsson'),\n",
       " ('Patrik', 'Ohlsson'),\n",
       " ('Peter', 'Solberg')]"
      ]
     },
     "execution_count": 62,
     "metadata": {},
     "output_type": "execute_result"
    }
   ],
   "source": [
    "%%sql\n",
    "SELECT  first_name, last_name\n",
    "FROM    students\n"
   ]
  },
  {
   "cell_type": "markdown",
   "id": "1b845a9e",
   "metadata": {},
   "source": [
    "b) Same as question a) but produce a sorted listing -- sort\n",
    "   first by last name and then by first name. (When you get\n",
    "   it to work, experiment by listing only the 10 first\n",
    "   students, then try to list only students 11-20, etc.)."
   ]
  },
  {
   "cell_type": "code",
   "execution_count": 63,
   "id": "ff31712b",
   "metadata": {
    "attributes": {
     "classes": [
      "clear"
     ],
     "id": ""
    }
   },
   "outputs": [
    {
     "name": "stdout",
     "output_type": "stream",
     "text": [
      " * sqlite:///lab1.sqlite\n",
      "Done.\n"
     ]
    },
    {
     "data": {
      "text/html": [
       "<table>\n",
       "    <tr>\n",
       "        <th>first_name</th>\n",
       "        <th>last_name</th>\n",
       "    </tr>\n",
       "    <tr>\n",
       "        <td>Lisa</td>\n",
       "        <td>Berg</td>\n",
       "    </tr>\n",
       "    <tr>\n",
       "        <td>Lotta</td>\n",
       "        <td>Bergman</td>\n",
       "    </tr>\n",
       "    <tr>\n",
       "        <td>Johan</td>\n",
       "        <td>Brattberg</td>\n",
       "    </tr>\n",
       "    <tr>\n",
       "        <td>Roger</td>\n",
       "        <td>Brorsson</td>\n",
       "    </tr>\n",
       "    <tr>\n",
       "        <td>David</td>\n",
       "        <td>Carlsson</td>\n",
       "    </tr>\n",
       "    <tr>\n",
       "        <td>Susanne</td>\n",
       "        <td>Dahl</td>\n",
       "    </tr>\n",
       "    <tr>\n",
       "        <td>Bo</td>\n",
       "        <td>Ek</td>\n",
       "    </tr>\n",
       "    <tr>\n",
       "        <td>Bo</td>\n",
       "        <td>Ek</td>\n",
       "    </tr>\n",
       "    <tr>\n",
       "        <td>Bo</td>\n",
       "        <td>Ek</td>\n",
       "    </tr>\n",
       "    <tr>\n",
       "        <td>Karolin</td>\n",
       "        <td>Ek</td>\n",
       "    </tr>\n",
       "</table>"
      ],
      "text/plain": [
       "[('Lisa', 'Berg'),\n",
       " ('Lotta', 'Bergman'),\n",
       " ('Johan', 'Brattberg'),\n",
       " ('Roger', 'Brorsson'),\n",
       " ('David', 'Carlsson'),\n",
       " ('Susanne', 'Dahl'),\n",
       " ('Bo', 'Ek'),\n",
       " ('Bo', 'Ek'),\n",
       " ('Bo', 'Ek'),\n",
       " ('Karolin', 'Ek')]"
      ]
     },
     "execution_count": 63,
     "metadata": {},
     "output_type": "execute_result"
    }
   ],
   "source": [
    "%%sql\n",
    "SELECT      first_name, last_name\n",
    "FROM        students\n",
    "ORDER BY    last_name, first_name\n",
    "LIMIT       10\n",
    "OFFSET      10"
   ]
  },
  {
   "cell_type": "markdown",
   "id": "a4d179bb",
   "metadata": {},
   "source": [
    "c) What are the names of the students who were born in 1985?\n",
    "   [4]"
   ]
  },
  {
   "cell_type": "code",
   "execution_count": 64,
   "id": "d385bd3c",
   "metadata": {
    "attributes": {
     "classes": [
      "clear"
     ],
     "id": ""
    }
   },
   "outputs": [
    {
     "name": "stdout",
     "output_type": "stream",
     "text": [
      " * sqlite:///lab1.sqlite\n",
      "Done.\n"
     ]
    },
    {
     "data": {
      "text/html": [
       "<table>\n",
       "    <tr>\n",
       "        <th>first_name</th>\n",
       "        <th>last_name</th>\n",
       "    </tr>\n",
       "    <tr>\n",
       "        <td>Ulrika</td>\n",
       "        <td>Jonsson</td>\n",
       "    </tr>\n",
       "    <tr>\n",
       "        <td>Bo</td>\n",
       "        <td>Ek</td>\n",
       "    </tr>\n",
       "    <tr>\n",
       "        <td>Filip</td>\n",
       "        <td>Persson</td>\n",
       "    </tr>\n",
       "    <tr>\n",
       "        <td>Henrik</td>\n",
       "        <td>Berg</td>\n",
       "    </tr>\n",
       "</table>"
      ],
      "text/plain": [
       "[('Ulrika', 'Jonsson'), ('Bo', 'Ek'), ('Filip', 'Persson'), ('Henrik', 'Berg')]"
      ]
     },
     "execution_count": 64,
     "metadata": {},
     "output_type": "execute_result"
    }
   ],
   "source": [
    "%%sql\n",
    "SELECT  first_name, last_name\n",
    "FROM    students\n",
    "WHERE   ssn LIKE '85%'\n"
   ]
  },
  {
   "cell_type": "markdown",
   "id": "d446d267",
   "metadata": {},
   "source": [
    "d) The next-to-last digit in the social security number is\n",
    "   even for females, and odd for males. List the first names\n",
    "   of all female students in our database alphabetically --\n",
    "   _each name should occur only once_. Hint: the `substr`\n",
    "   function can be useful. [20]"
   ]
  },
  {
   "cell_type": "code",
   "execution_count": 68,
   "id": "04f411ae",
   "metadata": {
    "attributes": {
     "classes": [
      "clear"
     ],
     "id": ""
    }
   },
   "outputs": [
    {
     "name": "stdout",
     "output_type": "stream",
     "text": [
      " * sqlite:///lab1.sqlite\n",
      "Done.\n"
     ]
    },
    {
     "data": {
      "text/html": [
       "<table>\n",
       "    <tr>\n",
       "        <th>first_name</th>\n",
       "    </tr>\n",
       "    <tr>\n",
       "        <td>Anna</td>\n",
       "    </tr>\n",
       "    <tr>\n",
       "        <td>Eva</td>\n",
       "    </tr>\n",
       "    <tr>\n",
       "        <td>Elaine</td>\n",
       "    </tr>\n",
       "    <tr>\n",
       "        <td>Maria</td>\n",
       "    </tr>\n",
       "    <tr>\n",
       "        <td>Helena</td>\n",
       "    </tr>\n",
       "    <tr>\n",
       "        <td>Lotta</td>\n",
       "    </tr>\n",
       "    <tr>\n",
       "        <td>Marie</td>\n",
       "    </tr>\n",
       "    <tr>\n",
       "        <td>Märit</td>\n",
       "    </tr>\n",
       "    <tr>\n",
       "        <td>Ylva</td>\n",
       "    </tr>\n",
       "    <tr>\n",
       "        <td>Frida</td>\n",
       "    </tr>\n",
       "    <tr>\n",
       "        <td>Caroline</td>\n",
       "    </tr>\n",
       "    <tr>\n",
       "        <td>Karolin</td>\n",
       "    </tr>\n",
       "    <tr>\n",
       "        <td>Sofia</td>\n",
       "    </tr>\n",
       "    <tr>\n",
       "        <td>Tina</td>\n",
       "    </tr>\n",
       "    <tr>\n",
       "        <td>Lisa</td>\n",
       "    </tr>\n",
       "    <tr>\n",
       "        <td>Susanne</td>\n",
       "    </tr>\n",
       "    <tr>\n",
       "        <td>Birgit</td>\n",
       "    </tr>\n",
       "    <tr>\n",
       "        <td>Ulrika</td>\n",
       "    </tr>\n",
       "    <tr>\n",
       "        <td>Jenny</td>\n",
       "    </tr>\n",
       "    <tr>\n",
       "        <td>Karin</td>\n",
       "    </tr>\n",
       "</table>"
      ],
      "text/plain": [
       "[('Anna',),\n",
       " ('Eva',),\n",
       " ('Elaine',),\n",
       " ('Maria',),\n",
       " ('Helena',),\n",
       " ('Lotta',),\n",
       " ('Marie',),\n",
       " ('Märit',),\n",
       " ('Ylva',),\n",
       " ('Frida',),\n",
       " ('Caroline',),\n",
       " ('Karolin',),\n",
       " ('Sofia',),\n",
       " ('Tina',),\n",
       " ('Lisa',),\n",
       " ('Susanne',),\n",
       " ('Birgit',),\n",
       " ('Ulrika',),\n",
       " ('Jenny',),\n",
       " ('Karin',)]"
      ]
     },
     "execution_count": 68,
     "metadata": {},
     "output_type": "execute_result"
    }
   ],
   "source": [
    "%%sql\n",
    "SELECT  DISTINCT first_name\n",
    "FROM    students\n",
    "WHERE   substr(ssn, 10, 1) % 2 = 0"
   ]
  },
  {
   "cell_type": "markdown",
   "id": "a2b7eb23",
   "metadata": {},
   "source": [
    "e) How many students are registered in the database?"
   ]
  },
  {
   "cell_type": "code",
   "execution_count": 69,
   "id": "85cb86b7",
   "metadata": {
    "attributes": {
     "classes": [
      "clear"
     ],
     "id": ""
    }
   },
   "outputs": [
    {
     "name": "stdout",
     "output_type": "stream",
     "text": [
      " * sqlite:///lab1.sqlite\n",
      "Done.\n"
     ]
    },
    {
     "data": {
      "text/html": [
       "<table>\n",
       "    <tr>\n",
       "        <th>count()</th>\n",
       "    </tr>\n",
       "    <tr>\n",
       "        <td>72</td>\n",
       "    </tr>\n",
       "</table>"
      ],
      "text/plain": [
       "[(72,)]"
      ]
     },
     "execution_count": 69,
     "metadata": {},
     "output_type": "execute_result"
    }
   ],
   "source": [
    "%%sql\n",
    "SELECT  count()\n",
    "FROM    students\n"
   ]
  },
  {
   "cell_type": "markdown",
   "id": "9c5e74e2",
   "metadata": {},
   "source": [
    "_Optional_: Now try to output the number of names in the\n",
    "   listing in (d) using `count`. It turns out that this is a\n",
    "   little bit tricky, we need to make sure we use the word\n",
    "   `DISTINCT` in the right place (look carefully in the\n",
    "   [documentation](https://sqlite.org/lang_aggfunc.html)).\n"
   ]
  },
  {
   "cell_type": "code",
   "execution_count": 70,
   "id": "7ecd95cc",
   "metadata": {},
   "outputs": [
    {
     "name": "stdout",
     "output_type": "stream",
     "text": [
      " * sqlite:///lab1.sqlite\n",
      "Done.\n"
     ]
    },
    {
     "data": {
      "text/html": [
       "<table>\n",
       "    <tr>\n",
       "        <th>count(DISTINCT first_name)</th>\n",
       "    </tr>\n",
       "    <tr>\n",
       "        <td>20</td>\n",
       "    </tr>\n",
       "</table>"
      ],
      "text/plain": [
       "[(20,)]"
      ]
     },
     "execution_count": 70,
     "metadata": {},
     "output_type": "execute_result"
    }
   ],
   "source": [
    "%%sql\n",
    "SELECT  count(DISTINCT first_name)\n",
    "FROM    students\n",
    "WHERE   substr(ssn, 10, 1) % 2 = 0"
   ]
  },
  {
   "cell_type": "markdown",
   "id": "d92ab868",
   "metadata": {},
   "source": [
    "f) Which courses are offered by the department of\n",
    "   Mathematics (their course codes have the form `FMAxxx`)?\n",
    "   [22]"
   ]
  },
  {
   "cell_type": "code",
   "execution_count": 71,
   "id": "326a7703",
   "metadata": {
    "attributes": {
     "classes": [
      "clear"
     ],
     "id": ""
    }
   },
   "outputs": [
    {
     "name": "stdout",
     "output_type": "stream",
     "text": [
      " * sqlite:///lab1.sqlite\n",
      "Done.\n"
     ]
    },
    {
     "data": {
      "text/html": [
       "<table>\n",
       "    <tr>\n",
       "        <th>course_name</th>\n",
       "    </tr>\n",
       "    <tr>\n",
       "        <td>Kontinuerliga system</td>\n",
       "    </tr>\n",
       "    <tr>\n",
       "        <td>Optimering</td>\n",
       "    </tr>\n",
       "    <tr>\n",
       "        <td>Diskret matematik</td>\n",
       "    </tr>\n",
       "    <tr>\n",
       "        <td>Matematiska strukturer</td>\n",
       "    </tr>\n",
       "    <tr>\n",
       "        <td>Matristeori</td>\n",
       "    </tr>\n",
       "    <tr>\n",
       "        <td>Matristeori, projektdel</td>\n",
       "    </tr>\n",
       "    <tr>\n",
       "        <td>Geometri</td>\n",
       "    </tr>\n",
       "    <tr>\n",
       "        <td>Olinjära dynamiska system</td>\n",
       "    </tr>\n",
       "    <tr>\n",
       "        <td>Olinjära dynamiska system, projektdel</td>\n",
       "    </tr>\n",
       "    <tr>\n",
       "        <td>Bildanalys</td>\n",
       "    </tr>\n",
       "    <tr>\n",
       "        <td>Bildanalys, projektdel</td>\n",
       "    </tr>\n",
       "    <tr>\n",
       "        <td>Variationskalkyl</td>\n",
       "    </tr>\n",
       "    <tr>\n",
       "        <td>Linjär och kombinatorisk optimering</td>\n",
       "    </tr>\n",
       "    <tr>\n",
       "        <td>Datorseende</td>\n",
       "    </tr>\n",
       "    <tr>\n",
       "        <td>Datorseende, projektdel</td>\n",
       "    </tr>\n",
       "    <tr>\n",
       "        <td>Linjär algebra</td>\n",
       "    </tr>\n",
       "    <tr>\n",
       "        <td>Flerdimensionell analys</td>\n",
       "    </tr>\n",
       "    <tr>\n",
       "        <td>Endimensionell analys</td>\n",
       "    </tr>\n",
       "    <tr>\n",
       "        <td>Matematik - Funktionsteori</td>\n",
       "    </tr>\n",
       "    <tr>\n",
       "        <td>Matematik - System och transformer</td>\n",
       "    </tr>\n",
       "    <tr>\n",
       "        <td>Tillämpad matematik - Linjära system</td>\n",
       "    </tr>\n",
       "    <tr>\n",
       "        <td>Algebraiska strukturer</td>\n",
       "    </tr>\n",
       "</table>"
      ],
      "text/plain": [
       "[('Kontinuerliga system',),\n",
       " ('Optimering',),\n",
       " ('Diskret matematik',),\n",
       " ('Matematiska strukturer',),\n",
       " ('Matristeori',),\n",
       " ('Matristeori, projektdel',),\n",
       " ('Geometri',),\n",
       " ('Olinjära dynamiska system',),\n",
       " ('Olinjära dynamiska system, projektdel',),\n",
       " ('Bildanalys',),\n",
       " ('Bildanalys, projektdel',),\n",
       " ('Variationskalkyl',),\n",
       " ('Linjär och kombinatorisk optimering',),\n",
       " ('Datorseende',),\n",
       " ('Datorseende, projektdel',),\n",
       " ('Linjär algebra',),\n",
       " ('Flerdimensionell analys',),\n",
       " ('Endimensionell analys',),\n",
       " ('Matematik - Funktionsteori',),\n",
       " ('Matematik - System och transformer',),\n",
       " ('Tillämpad matematik - Linjära system',),\n",
       " ('Algebraiska strukturer',)]"
      ]
     },
     "execution_count": 71,
     "metadata": {},
     "output_type": "execute_result"
    }
   ],
   "source": [
    "%%sql\n",
    "SELECT  course_name\n",
    "FROM    courses\n",
    "WHERE   course_code LIKE 'FMA%'\n"
   ]
  },
  {
   "cell_type": "markdown",
   "id": "76895ee4",
   "metadata": {},
   "source": [
    "g) Which courses give more than 7.5 credits? [16]"
   ]
  },
  {
   "cell_type": "code",
   "execution_count": 73,
   "id": "ec7c24bb",
   "metadata": {
    "attributes": {
     "classes": [
      "clear"
     ],
     "id": ""
    }
   },
   "outputs": [
    {
     "name": "stdout",
     "output_type": "stream",
     "text": [
      " * sqlite:///lab1.sqlite\n",
      "Done.\n"
     ]
    },
    {
     "data": {
      "text/html": [
       "<table>\n",
       "    <tr>\n",
       "        <th>course_name</th>\n",
       "    </tr>\n",
       "    <tr>\n",
       "        <td>Coachning av programvaruteam</td>\n",
       "    </tr>\n",
       "    <tr>\n",
       "        <td>Datorer i system</td>\n",
       "    </tr>\n",
       "    <tr>\n",
       "        <td>Tillämpad mekatronik</td>\n",
       "    </tr>\n",
       "    <tr>\n",
       "        <td>Mekatronik, industriell produktframtagning</td>\n",
       "    </tr>\n",
       "    <tr>\n",
       "        <td>Digitalteknik</td>\n",
       "    </tr>\n",
       "    <tr>\n",
       "        <td>Digitala bilder – kompression</td>\n",
       "    </tr>\n",
       "    <tr>\n",
       "        <td>Elektromagnetisk fältteori</td>\n",
       "    </tr>\n",
       "    <tr>\n",
       "        <td>Elektronik</td>\n",
       "    </tr>\n",
       "    <tr>\n",
       "        <td>Introduktionskurs i kinesiska för civilingenjörer</td>\n",
       "    </tr>\n",
       "    <tr>\n",
       "        <td>Introduktionskurs i kinesiska för civilingenjörer, del 2</td>\n",
       "    </tr>\n",
       "    <tr>\n",
       "        <td>Fysik</td>\n",
       "    </tr>\n",
       "    <tr>\n",
       "        <td>Endimensionell analys</td>\n",
       "    </tr>\n",
       "    <tr>\n",
       "        <td>Matematisk statistik, allmän kurs</td>\n",
       "    </tr>\n",
       "    <tr>\n",
       "        <td>Realtidssystem</td>\n",
       "    </tr>\n",
       "    <tr>\n",
       "        <td>Japanska för tekniker</td>\n",
       "    </tr>\n",
       "    <tr>\n",
       "        <td>Industriell ekonomi, allmän kurs</td>\n",
       "    </tr>\n",
       "</table>"
      ],
      "text/plain": [
       "[('Coachning av programvaruteam',),\n",
       " ('Datorer i system',),\n",
       " ('Tillämpad mekatronik',),\n",
       " ('Mekatronik, industriell produktframtagning',),\n",
       " ('Digitalteknik',),\n",
       " ('Digitala bilder – kompression',),\n",
       " ('Elektromagnetisk fältteori',),\n",
       " ('Elektronik',),\n",
       " ('Introduktionskurs i kinesiska för civilingenjörer',),\n",
       " ('Introduktionskurs i kinesiska för civilingenjörer, del 2',),\n",
       " ('Fysik',),\n",
       " ('Endimensionell analys',),\n",
       " ('Matematisk statistik, allmän kurs',),\n",
       " ('Realtidssystem',),\n",
       " ('Japanska för tekniker',),\n",
       " ('Industriell ekonomi, allmän kurs',)]"
      ]
     },
     "execution_count": 73,
     "metadata": {},
     "output_type": "execute_result"
    }
   ],
   "source": [
    "%%sql\n",
    "SELECT  course_name\n",
    "FROM    courses\n",
    "WHERE   credits > 7.5\n"
   ]
  },
  {
   "cell_type": "markdown",
   "id": "5df24d35",
   "metadata": {},
   "source": [
    "h) How may courses are there for each level (`G1`, `G2`, and\n",
    "   `A`)?"
   ]
  },
  {
   "cell_type": "code",
   "execution_count": 74,
   "id": "1ed3fc85",
   "metadata": {
    "attributes": {
     "classes": [
      "clear"
     ],
     "id": ""
    }
   },
   "outputs": [
    {
     "name": "stdout",
     "output_type": "stream",
     "text": [
      " * sqlite:///lab1.sqlite\n",
      "Done.\n"
     ]
    },
    {
     "data": {
      "text/html": [
       "<table>\n",
       "    <tr>\n",
       "        <th>level</th>\n",
       "        <th>count()</th>\n",
       "    </tr>\n",
       "    <tr>\n",
       "        <td>A</td>\n",
       "        <td>87</td>\n",
       "    </tr>\n",
       "    <tr>\n",
       "        <td>G1</td>\n",
       "        <td>31</td>\n",
       "    </tr>\n",
       "    <tr>\n",
       "        <td>G2</td>\n",
       "        <td>60</td>\n",
       "    </tr>\n",
       "</table>"
      ],
      "text/plain": [
       "[('A', 87), ('G1', 31), ('G2', 60)]"
      ]
     },
     "execution_count": 74,
     "metadata": {},
     "output_type": "execute_result"
    }
   ],
   "source": [
    "%%sql\n",
    "SELECT      level, count()\n",
    "FROM        courses\n",
    "GROUP BY    level    \n"
   ]
  },
  {
   "cell_type": "markdown",
   "id": "68437101",
   "metadata": {},
   "source": [
    "In the next few problems, we'll look at the results of the\n",
    "student with the social security number 910101–1234 -- to\n",
    "make things _a lot_ easier, you can create a `VIEW` with all\n",
    "his results."
   ]
  },
  {
   "cell_type": "code",
   "execution_count": 135,
   "id": "e0dda75e",
   "metadata": {
    "attributes": {
     "classes": [
      "clear"
     ],
     "id": ""
    }
   },
   "outputs": [
    {
     "name": "stdout",
     "output_type": "stream",
     "text": [
      " * sqlite:///lab1.sqlite\n",
      "Done.\n",
      "Done.\n"
     ]
    },
    {
     "data": {
      "text/plain": [
       "[]"
      ]
     },
     "execution_count": 135,
     "metadata": {},
     "output_type": "execute_result"
    }
   ],
   "source": [
    "%%sql\n",
    "DROP VIEW IF EXISTS student_results;\n",
    "CREATE VIEW student_results(ssn, first_name, last_name, course_code, course_name, level, credits, grade) AS \n",
    "    SELECT  ssn, first_name, last_name, course_code, course_name, level, credits, grade\n",
    "    FROM    taken_courses\n",
    "    JOIN    students\n",
    "    USING   (ssn)\n",
    "    JOIN    courses\n",
    "    USING   (course_code);"
   ]
  },
  {
   "cell_type": "markdown",
   "id": "79926465",
   "metadata": {},
   "source": [
    "i) Which courses (course codes only) have been taken by the\n",
    "   student with the social security number 910101–1234? [35]"
   ]
  },
  {
   "cell_type": "code",
   "execution_count": 101,
   "id": "ec6b8a0b",
   "metadata": {
    "attributes": {
     "classes": [
      "clear"
     ],
     "id": ""
    }
   },
   "outputs": [
    {
     "name": "stdout",
     "output_type": "stream",
     "text": [
      " * sqlite:///lab1.sqlite\n",
      "Done.\n"
     ]
    },
    {
     "data": {
      "text/html": [
       "<table>\n",
       "    <tr>\n",
       "        <th>course_code</th>\n",
       "    </tr>\n",
       "    <tr>\n",
       "        <td>EDA070</td>\n",
       "    </tr>\n",
       "    <tr>\n",
       "        <td>EDA385</td>\n",
       "    </tr>\n",
       "    <tr>\n",
       "        <td>EDAA25</td>\n",
       "    </tr>\n",
       "    <tr>\n",
       "        <td>EDAF05</td>\n",
       "    </tr>\n",
       "    <tr>\n",
       "        <td>EEMN10</td>\n",
       "    </tr>\n",
       "    <tr>\n",
       "        <td>EIT020</td>\n",
       "    </tr>\n",
       "    <tr>\n",
       "        <td>EIT060</td>\n",
       "    </tr>\n",
       "    <tr>\n",
       "        <td>EITF40</td>\n",
       "    </tr>\n",
       "    <tr>\n",
       "        <td>EITN40</td>\n",
       "    </tr>\n",
       "    <tr>\n",
       "        <td>EITN50</td>\n",
       "    </tr>\n",
       "    <tr>\n",
       "        <td>ESS050</td>\n",
       "    </tr>\n",
       "    <tr>\n",
       "        <td>ETIF10</td>\n",
       "    </tr>\n",
       "    <tr>\n",
       "        <td>ETIF15</td>\n",
       "    </tr>\n",
       "    <tr>\n",
       "        <td>ETIN35</td>\n",
       "    </tr>\n",
       "    <tr>\n",
       "        <td>ETS052</td>\n",
       "    </tr>\n",
       "    <tr>\n",
       "        <td>ETS075</td>\n",
       "    </tr>\n",
       "    <tr>\n",
       "        <td>ETS200</td>\n",
       "    </tr>\n",
       "    <tr>\n",
       "        <td>ETSA01</td>\n",
       "    </tr>\n",
       "    <tr>\n",
       "        <td>EXTA10</td>\n",
       "    </tr>\n",
       "    <tr>\n",
       "        <td>EXTA35</td>\n",
       "    </tr>\n",
       "    <tr>\n",
       "        <td>FAFF20</td>\n",
       "    </tr>\n",
       "    <tr>\n",
       "        <td>FAFF25</td>\n",
       "    </tr>\n",
       "    <tr>\n",
       "        <td>FMA145</td>\n",
       "    </tr>\n",
       "    <tr>\n",
       "        <td>FMA420</td>\n",
       "    </tr>\n",
       "    <tr>\n",
       "        <td>FMAA01</td>\n",
       "    </tr>\n",
       "    <tr>\n",
       "        <td>FMAF05</td>\n",
       "    </tr>\n",
       "    <tr>\n",
       "        <td>FMS012</td>\n",
       "    </tr>\n",
       "    <tr>\n",
       "        <td>FMSF15</td>\n",
       "    </tr>\n",
       "    <tr>\n",
       "        <td>FMSN30</td>\n",
       "    </tr>\n",
       "    <tr>\n",
       "        <td>FMSN35</td>\n",
       "    </tr>\n",
       "    <tr>\n",
       "        <td>FRTN10</td>\n",
       "    </tr>\n",
       "    <tr>\n",
       "        <td>GEMA45</td>\n",
       "    </tr>\n",
       "    <tr>\n",
       "        <td>GEMA70</td>\n",
       "    </tr>\n",
       "    <tr>\n",
       "        <td>MAMF15</td>\n",
       "    </tr>\n",
       "    <tr>\n",
       "        <td>TEK210</td>\n",
       "    </tr>\n",
       "</table>"
      ],
      "text/plain": [
       "[('EDA070',),\n",
       " ('EDA385',),\n",
       " ('EDAA25',),\n",
       " ('EDAF05',),\n",
       " ('EEMN10',),\n",
       " ('EIT020',),\n",
       " ('EIT060',),\n",
       " ('EITF40',),\n",
       " ('EITN40',),\n",
       " ('EITN50',),\n",
       " ('ESS050',),\n",
       " ('ETIF10',),\n",
       " ('ETIF15',),\n",
       " ('ETIN35',),\n",
       " ('ETS052',),\n",
       " ('ETS075',),\n",
       " ('ETS200',),\n",
       " ('ETSA01',),\n",
       " ('EXTA10',),\n",
       " ('EXTA35',),\n",
       " ('FAFF20',),\n",
       " ('FAFF25',),\n",
       " ('FMA145',),\n",
       " ('FMA420',),\n",
       " ('FMAA01',),\n",
       " ('FMAF05',),\n",
       " ('FMS012',),\n",
       " ('FMSF15',),\n",
       " ('FMSN30',),\n",
       " ('FMSN35',),\n",
       " ('FRTN10',),\n",
       " ('GEMA45',),\n",
       " ('GEMA70',),\n",
       " ('MAMF15',),\n",
       " ('TEK210',)]"
      ]
     },
     "execution_count": 101,
     "metadata": {},
     "output_type": "execute_result"
    }
   ],
   "source": [
    "%%sql\n",
    "SELECT  course_code\n",
    "FROM    student_results\n",
    "WHERE   ssn = \"910101-1234\"\n"
   ]
  },
  {
   "cell_type": "markdown",
   "id": "3aa1000e",
   "metadata": {},
   "source": [
    "j) What are the names of these courses, and how many credits\n",
    "   do they give?"
   ]
  },
  {
   "cell_type": "code",
   "execution_count": 102,
   "id": "f67cc264",
   "metadata": {
    "attributes": {
     "classes": [
      "clear"
     ],
     "id": ""
    }
   },
   "outputs": [
    {
     "name": "stdout",
     "output_type": "stream",
     "text": [
      " * sqlite:///lab1.sqlite\n",
      "Done.\n"
     ]
    },
    {
     "data": {
      "text/html": [
       "<table>\n",
       "    <tr>\n",
       "        <th>course_name</th>\n",
       "        <th>credits</th>\n",
       "    </tr>\n",
       "    <tr>\n",
       "        <td>Datorer och datoranvändning</td>\n",
       "        <td>3.0</td>\n",
       "    </tr>\n",
       "    <tr>\n",
       "        <td>Konstruktion av inbyggda system, fördjupningskurs</td>\n",
       "        <td>7.5</td>\n",
       "    </tr>\n",
       "    <tr>\n",
       "        <td>C-programmering</td>\n",
       "        <td>3.0</td>\n",
       "    </tr>\n",
       "    <tr>\n",
       "        <td>Algoritmer, datastrukturer och komplexitet</td>\n",
       "        <td>5.0</td>\n",
       "    </tr>\n",
       "    <tr>\n",
       "        <td>Datorbaserade mätsystem</td>\n",
       "        <td>7.5</td>\n",
       "    </tr>\n",
       "    <tr>\n",
       "        <td>Digitalteknik</td>\n",
       "        <td>9.0</td>\n",
       "    </tr>\n",
       "    <tr>\n",
       "        <td>Datasäkerhet</td>\n",
       "        <td>7.5</td>\n",
       "    </tr>\n",
       "    <tr>\n",
       "        <td>Digitala och analoga projekt</td>\n",
       "        <td>7.5</td>\n",
       "    </tr>\n",
       "    <tr>\n",
       "        <td>Avancerad webbsäkerhet</td>\n",
       "        <td>4.0</td>\n",
       "    </tr>\n",
       "    <tr>\n",
       "        <td>Avancerad datasäkerhet</td>\n",
       "        <td>7.5</td>\n",
       "    </tr>\n",
       "    <tr>\n",
       "        <td>Elektromagnetisk fältteori</td>\n",
       "        <td>9.0</td>\n",
       "    </tr>\n",
       "    <tr>\n",
       "        <td>Signalbehandling - design och implementering</td>\n",
       "        <td>7.5</td>\n",
       "    </tr>\n",
       "    <tr>\n",
       "        <td>Medicinsk signalbehandling</td>\n",
       "        <td>7.5</td>\n",
       "    </tr>\n",
       "    <tr>\n",
       "        <td>IC-projekt 1</td>\n",
       "        <td>7.5</td>\n",
       "    </tr>\n",
       "    <tr>\n",
       "        <td>Datorkommunikation</td>\n",
       "        <td>4.5</td>\n",
       "    </tr>\n",
       "    <tr>\n",
       "        <td>Kösystem</td>\n",
       "        <td>4.5</td>\n",
       "    </tr>\n",
       "    <tr>\n",
       "        <td>Programvarutestning</td>\n",
       "        <td>7.5</td>\n",
       "    </tr>\n",
       "    <tr>\n",
       "        <td>Ingenjörsprocessen för programvaruutveckling - metodik</td>\n",
       "        <td>5.0</td>\n",
       "    </tr>\n",
       "    <tr>\n",
       "        <td>Introduktion till Kinas samhällsliv, kultur och språk</td>\n",
       "        <td>3.0</td>\n",
       "    </tr>\n",
       "    <tr>\n",
       "        <td>Introduktionskurs i kinesiska för civilingenjörer</td>\n",
       "        <td>15.0</td>\n",
       "    </tr>\n",
       "    <tr>\n",
       "        <td>Multispektral avbildning</td>\n",
       "        <td>7.5</td>\n",
       "    </tr>\n",
       "    <tr>\n",
       "        <td>Fysik</td>\n",
       "        <td>11.0</td>\n",
       "    </tr>\n",
       "    <tr>\n",
       "        <td>Olinjära dynamiska system, projektdel</td>\n",
       "        <td>3.0</td>\n",
       "    </tr>\n",
       "    <tr>\n",
       "        <td>Linjär algebra</td>\n",
       "        <td>6.0</td>\n",
       "    </tr>\n",
       "    <tr>\n",
       "        <td>Endimensionell analys</td>\n",
       "        <td>15.0</td>\n",
       "    </tr>\n",
       "    <tr>\n",
       "        <td>Matematik - System och transformer</td>\n",
       "        <td>7.0</td>\n",
       "    </tr>\n",
       "    <tr>\n",
       "        <td>Matematisk statistik, allmän kurs</td>\n",
       "        <td>9.0</td>\n",
       "    </tr>\n",
       "    <tr>\n",
       "        <td>Markovprocesser</td>\n",
       "        <td>7.5</td>\n",
       "    </tr>\n",
       "    <tr>\n",
       "        <td>Linjär och logistisk regression</td>\n",
       "        <td>7.5</td>\n",
       "    </tr>\n",
       "    <tr>\n",
       "        <td>Stationär och icke-stationär spektralanalys</td>\n",
       "        <td>7.5</td>\n",
       "    </tr>\n",
       "    <tr>\n",
       "        <td>Flervariabel reglering</td>\n",
       "        <td>7.5</td>\n",
       "    </tr>\n",
       "    <tr>\n",
       "        <td>Förståelse och lärande</td>\n",
       "        <td>3.0</td>\n",
       "    </tr>\n",
       "    <tr>\n",
       "        <td>Japanska för tekniker</td>\n",
       "        <td>15.0</td>\n",
       "    </tr>\n",
       "    <tr>\n",
       "        <td>Arbetsorganisation och ledarskap</td>\n",
       "        <td>6.0</td>\n",
       "    </tr>\n",
       "    <tr>\n",
       "        <td>Kognition</td>\n",
       "        <td>4.5</td>\n",
       "    </tr>\n",
       "</table>"
      ],
      "text/plain": [
       "[('Datorer och datoranvändning', 3.0),\n",
       " ('Konstruktion av inbyggda system, fördjupningskurs', 7.5),\n",
       " ('C-programmering', 3.0),\n",
       " ('Algoritmer, datastrukturer och komplexitet', 5.0),\n",
       " ('Datorbaserade mätsystem', 7.5),\n",
       " ('Digitalteknik', 9.0),\n",
       " ('Datasäkerhet', 7.5),\n",
       " ('Digitala och analoga projekt', 7.5),\n",
       " ('Avancerad webbsäkerhet', 4.0),\n",
       " ('Avancerad datasäkerhet', 7.5),\n",
       " ('Elektromagnetisk fältteori', 9.0),\n",
       " ('Signalbehandling - design och implementering', 7.5),\n",
       " ('Medicinsk signalbehandling', 7.5),\n",
       " ('IC-projekt 1', 7.5),\n",
       " ('Datorkommunikation', 4.5),\n",
       " ('Kösystem', 4.5),\n",
       " ('Programvarutestning', 7.5),\n",
       " ('Ingenjörsprocessen för programvaruutveckling - metodik', 5.0),\n",
       " ('Introduktion till Kinas samhällsliv, kultur och språk', 3.0),\n",
       " ('Introduktionskurs i kinesiska för civilingenjörer', 15.0),\n",
       " ('Multispektral avbildning', 7.5),\n",
       " ('Fysik', 11.0),\n",
       " ('Olinjära dynamiska system, projektdel', 3.0),\n",
       " ('Linjär algebra', 6.0),\n",
       " ('Endimensionell analys', 15.0),\n",
       " ('Matematik - System och transformer', 7.0),\n",
       " ('Matematisk statistik, allmän kurs', 9.0),\n",
       " ('Markovprocesser', 7.5),\n",
       " ('Linjär och logistisk regression', 7.5),\n",
       " ('Stationär och icke-stationär spektralanalys', 7.5),\n",
       " ('Flervariabel reglering', 7.5),\n",
       " ('Förståelse och lärande', 3.0),\n",
       " ('Japanska för tekniker', 15.0),\n",
       " ('Arbetsorganisation och ledarskap', 6.0),\n",
       " ('Kognition', 4.5)]"
      ]
     },
     "execution_count": 102,
     "metadata": {},
     "output_type": "execute_result"
    }
   ],
   "source": [
    "%%sql\n",
    "SELECT course_name, credits\n",
    "FROM student_results\n",
    "WHERE   ssn = \"910101-1234\"\n"
   ]
  },
  {
   "cell_type": "markdown",
   "id": "c0ec33b6",
   "metadata": {},
   "source": [
    "k) How many credits has the student taken?"
   ]
  },
  {
   "cell_type": "code",
   "execution_count": 110,
   "id": "d6ba4be1",
   "metadata": {
    "attributes": {
     "classes": [
      "clear"
     ],
     "id": ""
    }
   },
   "outputs": [
    {
     "name": "stdout",
     "output_type": "stream",
     "text": [
      " * sqlite:///lab1.sqlite\n",
      "Done.\n"
     ]
    },
    {
     "data": {
      "text/html": [
       "<table>\n",
       "    <tr>\n",
       "        <th>sum(credits)</th>\n",
       "    </tr>\n",
       "    <tr>\n",
       "        <td>249.5</td>\n",
       "    </tr>\n",
       "</table>"
      ],
      "text/plain": [
       "[(249.5,)]"
      ]
     },
     "execution_count": 110,
     "metadata": {},
     "output_type": "execute_result"
    }
   ],
   "source": [
    "%%sql\n",
    "SELECT sum(credits)\n",
    "FROM student_results\n",
    "WHERE   ssn = \"910101-1234\""
   ]
  },
  {
   "cell_type": "markdown",
   "id": "8b143068",
   "metadata": {},
   "source": [
    "l) What is the student’s grade average? We can calculate the\n",
    "   average either just as the average of all grades\n",
    "   (unweighted), or use the credits for each course as a\n",
    "   weight and calculate a weighted average. Try to do the\n",
    "   calculation both ways (the weighted average can be\n",
    "   calculated in just one line of code, but we only require\n",
    "   that you calculate the unweighted average, so don't spend\n",
    "   too much time on getting the weighted average right)."
   ]
  },
  {
   "cell_type": "code",
   "execution_count": 111,
   "id": "2fe8dee8",
   "metadata": {
    "attributes": {
     "classes": [
      "clear"
     ],
     "id": ""
    }
   },
   "outputs": [
    {
     "name": "stdout",
     "output_type": "stream",
     "text": [
      " * sqlite:///lab1.sqlite\n",
      "Done.\n"
     ]
    },
    {
     "data": {
      "text/html": [
       "<table>\n",
       "    <tr>\n",
       "        <th>printf(&quot;%.2f&quot;, avg(grade))</th>\n",
       "    </tr>\n",
       "    <tr>\n",
       "        <td>4.03</td>\n",
       "    </tr>\n",
       "</table>"
      ],
      "text/plain": [
       "[('4.03',)]"
      ]
     },
     "execution_count": 111,
     "metadata": {},
     "output_type": "execute_result"
    }
   ],
   "source": [
    "%%sql\n",
    "SELECT  printf(\"%.2f\", avg(grade))\n",
    "FROM    student_results\n",
    "WHERE   ssn = \"910101-1234\""
   ]
  },
  {
   "cell_type": "markdown",
   "id": "861164e7",
   "metadata": {},
   "source": [
    "m) Which students have taken 0 credits? [11] This problem\n",
    "   can be solved in several ways, first do it with an outer\n",
    "   join:"
   ]
  },
  {
   "cell_type": "code",
   "execution_count": 117,
   "id": "b2b1d32c",
   "metadata": {
    "attributes": {
     "classes": [
      "clear"
     ],
     "id": ""
    }
   },
   "outputs": [
    {
     "name": "stdout",
     "output_type": "stream",
     "text": [
      " * sqlite:///lab1.sqlite\n",
      "Done.\n"
     ]
    },
    {
     "data": {
      "text/html": [
       "<table>\n",
       "    <tr>\n",
       "        <th>first_name</th>\n",
       "        <th>last_name</th>\n",
       "        <th>course_code</th>\n",
       "    </tr>\n",
       "    <tr>\n",
       "        <td>Anna</td>\n",
       "        <td>Nyström</td>\n",
       "        <td>None</td>\n",
       "    </tr>\n",
       "    <tr>\n",
       "        <td>Caroline</td>\n",
       "        <td>Olsson</td>\n",
       "        <td>None</td>\n",
       "    </tr>\n",
       "    <tr>\n",
       "        <td>Bo</td>\n",
       "        <td>Ek</td>\n",
       "        <td>None</td>\n",
       "    </tr>\n",
       "    <tr>\n",
       "        <td>Erik</td>\n",
       "        <td>Andersson</td>\n",
       "        <td>None</td>\n",
       "    </tr>\n",
       "    <tr>\n",
       "        <td>Erik</td>\n",
       "        <td>Andersson</td>\n",
       "        <td>None</td>\n",
       "    </tr>\n",
       "    <tr>\n",
       "        <td>Johan</td>\n",
       "        <td>Lind</td>\n",
       "        <td>None</td>\n",
       "    </tr>\n",
       "    <tr>\n",
       "        <td>Filip</td>\n",
       "        <td>Persson</td>\n",
       "        <td>None</td>\n",
       "    </tr>\n",
       "    <tr>\n",
       "        <td>Jonathan</td>\n",
       "        <td>Jönsson</td>\n",
       "        <td>None</td>\n",
       "    </tr>\n",
       "    <tr>\n",
       "        <td>Magnus</td>\n",
       "        <td>Hultgren</td>\n",
       "        <td>None</td>\n",
       "    </tr>\n",
       "    <tr>\n",
       "        <td>Joakim</td>\n",
       "        <td>Hall</td>\n",
       "        <td>None</td>\n",
       "    </tr>\n",
       "    <tr>\n",
       "        <td>Henrik</td>\n",
       "        <td>Gustavsson</td>\n",
       "        <td>None</td>\n",
       "    </tr>\n",
       "</table>"
      ],
      "text/plain": [
       "[('Anna', 'Nyström', None),\n",
       " ('Caroline', 'Olsson', None),\n",
       " ('Bo', 'Ek', None),\n",
       " ('Erik', 'Andersson', None),\n",
       " ('Erik', 'Andersson', None),\n",
       " ('Johan', 'Lind', None),\n",
       " ('Filip', 'Persson', None),\n",
       " ('Jonathan', 'Jönsson', None),\n",
       " ('Magnus', 'Hultgren', None),\n",
       " ('Joakim', 'Hall', None),\n",
       " ('Henrik', 'Gustavsson', None)]"
      ]
     },
     "execution_count": 117,
     "metadata": {},
     "output_type": "execute_result"
    }
   ],
   "source": [
    "%%sql\n",
    "SELECT              first_name, last_name, course_code\n",
    "FROM                students\n",
    "LEFT OUTER JOIN     taken_courses\n",
    "USING               (ssn)\n",
    "WHERE               course_code IS NULL"
   ]
  },
  {
   "cell_type": "markdown",
   "id": "92681108",
   "metadata": {},
   "source": [
    "Now do the same thing using a subquery:"
   ]
  },
  {
   "cell_type": "code",
   "execution_count": 118,
   "id": "f5177550",
   "metadata": {
    "attributes": {
     "classes": [
      "clear"
     ],
     "id": ""
    }
   },
   "outputs": [
    {
     "name": "stdout",
     "output_type": "stream",
     "text": [
      " * sqlite:///lab1.sqlite\n",
      "Done.\n"
     ]
    },
    {
     "data": {
      "text/html": [
       "<table>\n",
       "    <tr>\n",
       "        <th>first_name</th>\n",
       "        <th>last_name</th>\n",
       "    </tr>\n",
       "    <tr>\n",
       "        <td>Anna</td>\n",
       "        <td>Nyström</td>\n",
       "    </tr>\n",
       "    <tr>\n",
       "        <td>Caroline</td>\n",
       "        <td>Olsson</td>\n",
       "    </tr>\n",
       "    <tr>\n",
       "        <td>Bo</td>\n",
       "        <td>Ek</td>\n",
       "    </tr>\n",
       "    <tr>\n",
       "        <td>Erik</td>\n",
       "        <td>Andersson</td>\n",
       "    </tr>\n",
       "    <tr>\n",
       "        <td>Erik</td>\n",
       "        <td>Andersson</td>\n",
       "    </tr>\n",
       "    <tr>\n",
       "        <td>Johan</td>\n",
       "        <td>Lind</td>\n",
       "    </tr>\n",
       "    <tr>\n",
       "        <td>Filip</td>\n",
       "        <td>Persson</td>\n",
       "    </tr>\n",
       "    <tr>\n",
       "        <td>Jonathan</td>\n",
       "        <td>Jönsson</td>\n",
       "    </tr>\n",
       "    <tr>\n",
       "        <td>Magnus</td>\n",
       "        <td>Hultgren</td>\n",
       "    </tr>\n",
       "    <tr>\n",
       "        <td>Joakim</td>\n",
       "        <td>Hall</td>\n",
       "    </tr>\n",
       "    <tr>\n",
       "        <td>Henrik</td>\n",
       "        <td>Gustavsson</td>\n",
       "    </tr>\n",
       "</table>"
      ],
      "text/plain": [
       "[('Anna', 'Nyström'),\n",
       " ('Caroline', 'Olsson'),\n",
       " ('Bo', 'Ek'),\n",
       " ('Erik', 'Andersson'),\n",
       " ('Erik', 'Andersson'),\n",
       " ('Johan', 'Lind'),\n",
       " ('Filip', 'Persson'),\n",
       " ('Jonathan', 'Jönsson'),\n",
       " ('Magnus', 'Hultgren'),\n",
       " ('Joakim', 'Hall'),\n",
       " ('Henrik', 'Gustavsson')]"
      ]
     },
     "execution_count": 118,
     "metadata": {},
     "output_type": "execute_result"
    }
   ],
   "source": [
    "%%sql\n",
    "SELECT  first_name, last_name\n",
    "FROM    students\n",
    "WHERE   ssn NOT IN (\n",
    "            SELECT  ssn\n",
    "            FROM    taken_courses\n",
    ")\n"
   ]
  },
  {
   "cell_type": "markdown",
   "id": "0949c130",
   "metadata": {},
   "source": [
    "n) List the names and average grades of the 10 students with\n",
    "   the highest grade average? You can use the unweighted\n",
    "   average."
   ]
  },
  {
   "cell_type": "code",
   "execution_count": 139,
   "id": "17463741",
   "metadata": {
    "attributes": {
     "classes": [
      "clear"
     ],
     "id": ""
    }
   },
   "outputs": [
    {
     "name": "stdout",
     "output_type": "stream",
     "text": [
      " * sqlite:///lab1.sqlite\n",
      "Done.\n"
     ]
    },
    {
     "data": {
      "text/html": [
       "<table>\n",
       "    <tr>\n",
       "        <th>first_name</th>\n",
       "        <th>last_name</th>\n",
       "        <th>printf(&quot;%.2f&quot;, avg(grade))</th>\n",
       "    </tr>\n",
       "    <tr>\n",
       "        <td>Bo</td>\n",
       "        <td>Ek</td>\n",
       "        <td>4.35</td>\n",
       "    </tr>\n",
       "    <tr>\n",
       "        <td>Helena</td>\n",
       "        <td>Troberg</td>\n",
       "        <td>4.31</td>\n",
       "    </tr>\n",
       "    <tr>\n",
       "        <td>Elaine</td>\n",
       "        <td>Robertson</td>\n",
       "        <td>4.24</td>\n",
       "    </tr>\n",
       "    <tr>\n",
       "        <td>Anna</td>\n",
       "        <td>Johansson</td>\n",
       "        <td>4.23</td>\n",
       "    </tr>\n",
       "    <tr>\n",
       "        <td>Ylva</td>\n",
       "        <td>Jacobsson</td>\n",
       "        <td>4.22</td>\n",
       "    </tr>\n",
       "    <tr>\n",
       "        <td>Anna</td>\n",
       "        <td>Johansson</td>\n",
       "        <td>4.20</td>\n",
       "    </tr>\n",
       "    <tr>\n",
       "        <td>Mikael</td>\n",
       "        <td>Nilsson</td>\n",
       "        <td>4.17</td>\n",
       "    </tr>\n",
       "    <tr>\n",
       "        <td>Jakob</td>\n",
       "        <td>Malmberg</td>\n",
       "        <td>4.17</td>\n",
       "    </tr>\n",
       "    <tr>\n",
       "        <td>Maria</td>\n",
       "        <td>Andersson</td>\n",
       "        <td>4.16</td>\n",
       "    </tr>\n",
       "    <tr>\n",
       "        <td>Per-Erik</td>\n",
       "        <td>Pettersson</td>\n",
       "        <td>4.15</td>\n",
       "    </tr>\n",
       "</table>"
      ],
      "text/plain": [
       "[('Bo', 'Ek', '4.35'),\n",
       " ('Helena', 'Troberg', '4.31'),\n",
       " ('Elaine', 'Robertson', '4.24'),\n",
       " ('Anna', 'Johansson', '4.23'),\n",
       " ('Ylva', 'Jacobsson', '4.22'),\n",
       " ('Anna', 'Johansson', '4.20'),\n",
       " ('Mikael', 'Nilsson', '4.17'),\n",
       " ('Jakob', 'Malmberg', '4.17'),\n",
       " ('Maria', 'Andersson', '4.16'),\n",
       " ('Per-Erik', 'Pettersson', '4.15')]"
      ]
     },
     "execution_count": 139,
     "metadata": {},
     "output_type": "execute_result"
    }
   ],
   "source": [
    "%%sql\n",
    "SELECT      first_name, last_name, printf(\"%.2f\", avg(grade))\n",
    "FROM        student_results\n",
    "GROUP BY    ssn\n",
    "ORDER BY    avg(grade) DESC\n",
    "LIMIT       10"
   ]
  },
  {
   "cell_type": "markdown",
   "id": "6054c197",
   "metadata": {},
   "source": [
    "o) List the social security number and total number of\n",
    "   credits for all students. Students with no credits should\n",
    "   be included in the listing, with 0 credits (not `NULL`).\n",
    "\n",
    "   If you do this with an outer join (and I recommend you\n",
    "   try it!) you might want to use the function\n",
    "   `coalesce(v1, v2, ...)`; it returns the first value which\n",
    "   is not `NULL`, so `coalesce(avg(grade), 0)` would give 0\n",
    "   if the were no grades (i.e., if `grade` were `NULL`), you\n",
    "   can also try the `ifnull` function.\n",
    "\n",
    "   (It may be a little bit tricky to get this query right,\n",
    "   if you're missing the students with 0 credits, don't\n",
    "   worry, your TA will help you get it right). [72]"
   ]
  },
  {
   "cell_type": "code",
   "execution_count": 149,
   "id": "02b509b9",
   "metadata": {
    "attributes": {
     "classes": [
      "clear"
     ],
     "id": ""
    }
   },
   "outputs": [
    {
     "name": "stdout",
     "output_type": "stream",
     "text": [
      " * sqlite:///lab1.sqlite\n",
      "Done.\n"
     ]
    },
    {
     "data": {
      "text/html": [
       "<table>\n",
       "    <tr>\n",
       "        <th>ssn</th>\n",
       "        <th>avg_grade</th>\n",
       "    </tr>\n",
       "    <tr>\n",
       "        <td>850208-1213</td>\n",
       "        <td>3.73</td>\n",
       "    </tr>\n",
       "    <tr>\n",
       "        <td>850517-2597</td>\n",
       "        <td>0.00</td>\n",
       "    </tr>\n",
       "    <tr>\n",
       "        <td>850706-2762</td>\n",
       "        <td>3.75</td>\n",
       "    </tr>\n",
       "    <tr>\n",
       "        <td>850819-2139</td>\n",
       "        <td>4.00</td>\n",
       "    </tr>\n",
       "    <tr>\n",
       "        <td>860206-1065</td>\n",
       "        <td>4.05</td>\n",
       "    </tr>\n",
       "    <tr>\n",
       "        <td>860323-1071</td>\n",
       "        <td>4.10</td>\n",
       "    </tr>\n",
       "    <tr>\n",
       "        <td>860819-2864</td>\n",
       "        <td>4.16</td>\n",
       "    </tr>\n",
       "    <tr>\n",
       "        <td>861103-2438</td>\n",
       "        <td>4.35</td>\n",
       "    </tr>\n",
       "    <tr>\n",
       "        <td>870909-3367</td>\n",
       "        <td>0.00</td>\n",
       "    </tr>\n",
       "    <tr>\n",
       "        <td>870915-2742</td>\n",
       "        <td>4.03</td>\n",
       "    </tr>\n",
       "    <tr>\n",
       "        <td>880206-1915</td>\n",
       "        <td>0.00</td>\n",
       "    </tr>\n",
       "    <tr>\n",
       "        <td>880322-3951</td>\n",
       "        <td>4.03</td>\n",
       "    </tr>\n",
       "    <tr>\n",
       "        <td>880620-2564</td>\n",
       "        <td>3.98</td>\n",
       "    </tr>\n",
       "    <tr>\n",
       "        <td>881030-2772</td>\n",
       "        <td>3.89</td>\n",
       "    </tr>\n",
       "    <tr>\n",
       "        <td>881110-1272</td>\n",
       "        <td>3.90</td>\n",
       "    </tr>\n",
       "    <tr>\n",
       "        <td>890103-1256</td>\n",
       "        <td>3.88</td>\n",
       "    </tr>\n",
       "    <tr>\n",
       "        <td>890621-3057</td>\n",
       "        <td>4.15</td>\n",
       "    </tr>\n",
       "    <tr>\n",
       "        <td>890622-1928</td>\n",
       "        <td>4.14</td>\n",
       "    </tr>\n",
       "    <tr>\n",
       "        <td>890820-2496</td>\n",
       "        <td>4.13</td>\n",
       "    </tr>\n",
       "    <tr>\n",
       "        <td>891007-3091</td>\n",
       "        <td>0.00</td>\n",
       "    </tr>\n",
       "    <tr>\n",
       "        <td>891021-1287</td>\n",
       "        <td>3.67</td>\n",
       "    </tr>\n",
       "    <tr>\n",
       "        <td>891106-1277</td>\n",
       "        <td>3.75</td>\n",
       "    </tr>\n",
       "    <tr>\n",
       "        <td>891220-1393</td>\n",
       "        <td>0.00</td>\n",
       "    </tr>\n",
       "    <tr>\n",
       "        <td>891231-2554</td>\n",
       "        <td>3.92</td>\n",
       "    </tr>\n",
       "    <tr>\n",
       "        <td>900129-3374</td>\n",
       "        <td>0.00</td>\n",
       "    </tr>\n",
       "    <tr>\n",
       "        <td>900206-3735</td>\n",
       "        <td>4.15</td>\n",
       "    </tr>\n",
       "    <tr>\n",
       "        <td>900227-2369</td>\n",
       "        <td>4.00</td>\n",
       "    </tr>\n",
       "    <tr>\n",
       "        <td>900313-2257</td>\n",
       "        <td>0.00</td>\n",
       "    </tr>\n",
       "    <tr>\n",
       "        <td>900526-1450</td>\n",
       "        <td>4.00</td>\n",
       "    </tr>\n",
       "    <tr>\n",
       "        <td>900528-1540</td>\n",
       "        <td>3.90</td>\n",
       "    </tr>\n",
       "    <tr>\n",
       "        <td>900918-3999</td>\n",
       "        <td>4.13</td>\n",
       "    </tr>\n",
       "    <tr>\n",
       "        <td>901030-1895</td>\n",
       "        <td>4.15</td>\n",
       "    </tr>\n",
       "    <tr>\n",
       "        <td>910101-1234</td>\n",
       "        <td>4.03</td>\n",
       "    </tr>\n",
       "    <tr>\n",
       "        <td>910226-3409</td>\n",
       "        <td>4.11</td>\n",
       "    </tr>\n",
       "    <tr>\n",
       "        <td>910308-1826</td>\n",
       "        <td>4.31</td>\n",
       "    </tr>\n",
       "    <tr>\n",
       "        <td>910707-3787</td>\n",
       "        <td>3.25</td>\n",
       "    </tr>\n",
       "    <tr>\n",
       "        <td>910915-2068</td>\n",
       "        <td>4.15</td>\n",
       "    </tr>\n",
       "    <tr>\n",
       "        <td>911015-3758</td>\n",
       "        <td>0.00</td>\n",
       "    </tr>\n",
       "    <tr>\n",
       "        <td>911020-3538</td>\n",
       "        <td>4.00</td>\n",
       "    </tr>\n",
       "    <tr>\n",
       "        <td>911212-1746</td>\n",
       "        <td>3.96</td>\n",
       "    </tr>\n",
       "    <tr>\n",
       "        <td>920308-3854</td>\n",
       "        <td>4.15</td>\n",
       "    </tr>\n",
       "    <tr>\n",
       "        <td>920514-3433</td>\n",
       "        <td>3.75</td>\n",
       "    </tr>\n",
       "    <tr>\n",
       "        <td>920623-3258</td>\n",
       "        <td>4.00</td>\n",
       "    </tr>\n",
       "    <tr>\n",
       "        <td>920812-1857</td>\n",
       "        <td>4.17</td>\n",
       "    </tr>\n",
       "    <tr>\n",
       "        <td>920906-3371</td>\n",
       "        <td>4.04</td>\n",
       "    </tr>\n",
       "    <tr>\n",
       "        <td>920921-2499</td>\n",
       "        <td>3.92</td>\n",
       "    </tr>\n",
       "    <tr>\n",
       "        <td>921029-1995</td>\n",
       "        <td>3.76</td>\n",
       "    </tr>\n",
       "    <tr>\n",
       "        <td>921222-2113</td>\n",
       "        <td>4.07</td>\n",
       "    </tr>\n",
       "    <tr>\n",
       "        <td>930420-2833</td>\n",
       "        <td>4.00</td>\n",
       "    </tr>\n",
       "    <tr>\n",
       "        <td>930502-2040</td>\n",
       "        <td>4.07</td>\n",
       "    </tr>\n",
       "    <tr>\n",
       "        <td>930702-3582</td>\n",
       "        <td>4.23</td>\n",
       "    </tr>\n",
       "    <tr>\n",
       "        <td>930716-3933</td>\n",
       "        <td>4.00</td>\n",
       "    </tr>\n",
       "    <tr>\n",
       "        <td>930804-3050</td>\n",
       "        <td>4.10</td>\n",
       "    </tr>\n",
       "    <tr>\n",
       "        <td>931015-1271</td>\n",
       "        <td>4.00</td>\n",
       "    </tr>\n",
       "    <tr>\n",
       "        <td>931128-1333</td>\n",
       "        <td>3.80</td>\n",
       "    </tr>\n",
       "    <tr>\n",
       "        <td>931208-3605</td>\n",
       "        <td>4.22</td>\n",
       "    </tr>\n",
       "    <tr>\n",
       "        <td>931213-2824</td>\n",
       "        <td>4.24</td>\n",
       "    </tr>\n",
       "    <tr>\n",
       "        <td>931225-3158</td>\n",
       "        <td>0.00</td>\n",
       "    </tr>\n",
       "    <tr>\n",
       "        <td>940318-2373</td>\n",
       "        <td>4.06</td>\n",
       "    </tr>\n",
       "    <tr>\n",
       "        <td>940801-2971</td>\n",
       "        <td>4.17</td>\n",
       "    </tr>\n",
       "    <tr>\n",
       "        <td>940802-3861</td>\n",
       "        <td>4.00</td>\n",
       "    </tr>\n",
       "    <tr>\n",
       "        <td>940825-1934</td>\n",
       "        <td>3.88</td>\n",
       "    </tr>\n",
       "    <tr>\n",
       "        <td>941003-1225</td>\n",
       "        <td>3.57</td>\n",
       "    </tr>\n",
       "    <tr>\n",
       "        <td>950125-1153</td>\n",
       "        <td>0.00</td>\n",
       "    </tr>\n",
       "    <tr>\n",
       "        <td>950317-3520</td>\n",
       "        <td>4.00</td>\n",
       "    </tr>\n",
       "    <tr>\n",
       "        <td>950705-2308</td>\n",
       "        <td>4.20</td>\n",
       "    </tr>\n",
       "    <tr>\n",
       "        <td>950714-2190</td>\n",
       "        <td>3.60</td>\n",
       "    </tr>\n",
       "    <tr>\n",
       "        <td>950715-2090</td>\n",
       "        <td>4.00</td>\n",
       "    </tr>\n",
       "    <tr>\n",
       "        <td>950829-1848</td>\n",
       "        <td>0.00</td>\n",
       "    </tr>\n",
       "    <tr>\n",
       "        <td>950830-2637</td>\n",
       "        <td>4.00</td>\n",
       "    </tr>\n",
       "    <tr>\n",
       "        <td>951004-2346</td>\n",
       "        <td>4.11</td>\n",
       "    </tr>\n",
       "    <tr>\n",
       "        <td>951122-1048</td>\n",
       "        <td>3.67</td>\n",
       "    </tr>\n",
       "</table>"
      ],
      "text/plain": [
       "[('850208-1213', '3.73'),\n",
       " ('850517-2597', '0.00'),\n",
       " ('850706-2762', '3.75'),\n",
       " ('850819-2139', '4.00'),\n",
       " ('860206-1065', '4.05'),\n",
       " ('860323-1071', '4.10'),\n",
       " ('860819-2864', '4.16'),\n",
       " ('861103-2438', '4.35'),\n",
       " ('870909-3367', '0.00'),\n",
       " ('870915-2742', '4.03'),\n",
       " ('880206-1915', '0.00'),\n",
       " ('880322-3951', '4.03'),\n",
       " ('880620-2564', '3.98'),\n",
       " ('881030-2772', '3.89'),\n",
       " ('881110-1272', '3.90'),\n",
       " ('890103-1256', '3.88'),\n",
       " ('890621-3057', '4.15'),\n",
       " ('890622-1928', '4.14'),\n",
       " ('890820-2496', '4.13'),\n",
       " ('891007-3091', '0.00'),\n",
       " ('891021-1287', '3.67'),\n",
       " ('891106-1277', '3.75'),\n",
       " ('891220-1393', '0.00'),\n",
       " ('891231-2554', '3.92'),\n",
       " ('900129-3374', '0.00'),\n",
       " ('900206-3735', '4.15'),\n",
       " ('900227-2369', '4.00'),\n",
       " ('900313-2257', '0.00'),\n",
       " ('900526-1450', '4.00'),\n",
       " ('900528-1540', '3.90'),\n",
       " ('900918-3999', '4.13'),\n",
       " ('901030-1895', '4.15'),\n",
       " ('910101-1234', '4.03'),\n",
       " ('910226-3409', '4.11'),\n",
       " ('910308-1826', '4.31'),\n",
       " ('910707-3787', '3.25'),\n",
       " ('910915-2068', '4.15'),\n",
       " ('911015-3758', '0.00'),\n",
       " ('911020-3538', '4.00'),\n",
       " ('911212-1746', '3.96'),\n",
       " ('920308-3854', '4.15'),\n",
       " ('920514-3433', '3.75'),\n",
       " ('920623-3258', '4.00'),\n",
       " ('920812-1857', '4.17'),\n",
       " ('920906-3371', '4.04'),\n",
       " ('920921-2499', '3.92'),\n",
       " ('921029-1995', '3.76'),\n",
       " ('921222-2113', '4.07'),\n",
       " ('930420-2833', '4.00'),\n",
       " ('930502-2040', '4.07'),\n",
       " ('930702-3582', '4.23'),\n",
       " ('930716-3933', '4.00'),\n",
       " ('930804-3050', '4.10'),\n",
       " ('931015-1271', '4.00'),\n",
       " ('931128-1333', '3.80'),\n",
       " ('931208-3605', '4.22'),\n",
       " ('931213-2824', '4.24'),\n",
       " ('931225-3158', '0.00'),\n",
       " ('940318-2373', '4.06'),\n",
       " ('940801-2971', '4.17'),\n",
       " ('940802-3861', '4.00'),\n",
       " ('940825-1934', '3.88'),\n",
       " ('941003-1225', '3.57'),\n",
       " ('950125-1153', '0.00'),\n",
       " ('950317-3520', '4.00'),\n",
       " ('950705-2308', '4.20'),\n",
       " ('950714-2190', '3.60'),\n",
       " ('950715-2090', '4.00'),\n",
       " ('950829-1848', '0.00'),\n",
       " ('950830-2637', '4.00'),\n",
       " ('951004-2346', '4.11'),\n",
       " ('951122-1048', '3.67')]"
      ]
     },
     "execution_count": 149,
     "metadata": {},
     "output_type": "execute_result"
    }
   ],
   "source": [
    "%%sql\n",
    "SELECT              ssn, coalesce(printf(\"%.2f\", avg(grade)), 0) AS avg_grade\n",
    "FROM                students\n",
    "LEFT OUTER JOIN     taken_courses\n",
    "USING               (ssn)\n",
    "GROUP BY            ssn"
   ]
  },
  {
   "cell_type": "markdown",
   "id": "81a1155e",
   "metadata": {},
   "source": [
    "COMMENT: How do I count these?"
   ]
  },
  {
   "cell_type": "markdown",
   "id": "1668a1e1",
   "metadata": {},
   "source": [
    "p) Do all students have unique names (first name _and_ last\n",
    "   name)? If not, show the full name and social security\n",
    "   number for all students who have a namesake. [7]\n",
    "\n",
    "   As usual there are several ways of solving this, try to\n",
    "   solve it using a `WITH`-statement where you create a\n",
    "   table with all duplicate names, and then use it in a\n",
    "   `JOIN`:"
   ]
  },
  {
   "cell_type": "code",
   "execution_count": 174,
   "id": "17d96943",
   "metadata": {},
   "outputs": [
    {
     "name": "stdout",
     "output_type": "stream",
     "text": [
      " * sqlite:///lab1.sqlite\n",
      "Done.\n"
     ]
    },
    {
     "data": {
      "text/html": [
       "<table>\n",
       "    <tr>\n",
       "        <th>first_name</th>\n",
       "        <th>last_name</th>\n",
       "        <th>count()</th>\n",
       "    </tr>\n",
       "    <tr>\n",
       "        <td>Anna</td>\n",
       "        <td>Johansson</td>\n",
       "        <td>2</td>\n",
       "    </tr>\n",
       "    <tr>\n",
       "        <td>Bo</td>\n",
       "        <td>Ek</td>\n",
       "        <td>3</td>\n",
       "    </tr>\n",
       "    <tr>\n",
       "        <td>Erik</td>\n",
       "        <td>Andersson</td>\n",
       "        <td>2</td>\n",
       "    </tr>\n",
       "</table>"
      ],
      "text/plain": [
       "[('Anna', 'Johansson', 2), ('Bo', 'Ek', 3), ('Erik', 'Andersson', 2)]"
      ]
     },
     "execution_count": 174,
     "metadata": {},
     "output_type": "execute_result"
    }
   ],
   "source": [
    "%%sql\n",
    "SELECT first_name, last_name, count()\n",
    "FROM students\n",
    "GROUP BY first_name, last_name\n",
    "HAVING count() > 1"
   ]
  },
  {
   "cell_type": "code",
   "execution_count": 178,
   "id": "fb3bd203",
   "metadata": {
    "attributes": {
     "classes": [
      "clear"
     ],
     "id": ""
    }
   },
   "outputs": [
    {
     "name": "stdout",
     "output_type": "stream",
     "text": [
      " * sqlite:///lab1.sqlite\n",
      "Done.\n"
     ]
    },
    {
     "data": {
      "text/html": [
       "<table>\n",
       "    <tr>\n",
       "        <th>first_name</th>\n",
       "        <th>last_name</th>\n",
       "        <th>ssn</th>\n",
       "    </tr>\n",
       "    <tr>\n",
       "        <td>Anna</td>\n",
       "        <td>Johansson</td>\n",
       "        <td>950705-2308</td>\n",
       "    </tr>\n",
       "    <tr>\n",
       "        <td>Anna</td>\n",
       "        <td>Johansson</td>\n",
       "        <td>930702-3582</td>\n",
       "    </tr>\n",
       "    <tr>\n",
       "        <td>Bo</td>\n",
       "        <td>Ek</td>\n",
       "        <td>861103-2438</td>\n",
       "    </tr>\n",
       "    <tr>\n",
       "        <td>Bo</td>\n",
       "        <td>Ek</td>\n",
       "        <td>931225-3158</td>\n",
       "    </tr>\n",
       "    <tr>\n",
       "        <td>Bo</td>\n",
       "        <td>Ek</td>\n",
       "        <td>850819-2139</td>\n",
       "    </tr>\n",
       "    <tr>\n",
       "        <td>Erik</td>\n",
       "        <td>Andersson</td>\n",
       "        <td>891220-1393</td>\n",
       "    </tr>\n",
       "    <tr>\n",
       "        <td>Erik</td>\n",
       "        <td>Andersson</td>\n",
       "        <td>900313-2257</td>\n",
       "    </tr>\n",
       "</table>"
      ],
      "text/plain": [
       "[('Anna', 'Johansson', '950705-2308'),\n",
       " ('Anna', 'Johansson', '930702-3582'),\n",
       " ('Bo', 'Ek', '861103-2438'),\n",
       " ('Bo', 'Ek', '931225-3158'),\n",
       " ('Bo', 'Ek', '850819-2139'),\n",
       " ('Erik', 'Andersson', '891220-1393'),\n",
       " ('Erik', 'Andersson', '900313-2257')]"
      ]
     },
     "execution_count": 178,
     "metadata": {},
     "output_type": "execute_result"
    }
   ],
   "source": [
    "%%sql\n",
    "WITH namesakes(first_name, last_name) AS (\n",
    "    SELECT      first_name, last_name\n",
    "    FROM        students\n",
    "    GROUP BY    first_name, last_name\n",
    "    HAVING      count() > 1\n",
    ")\n",
    "SELECT  first_name, last_name, ssn\n",
    "FROM    namesakes\n",
    "JOIN    students\n",
    "USING   (first_name, last_name)\n"
   ]
  },
  {
   "cell_type": "markdown",
   "id": "410ea095",
   "metadata": {},
   "source": [
    "q) _Optional:_ List all students who have a an average grade\n",
    "   higher than the average of all other students with the\n",
    "   same first name. Try to use weighted averages for the\n",
    "   invididual students, and compare to just the average of\n",
    "   averages for the namesakes (we could have weighted their\n",
    "   averages according to how many total credits they have,\n",
    "   but that would be a bit over the top). Here you can use\n",
    "   either a correlated subquery, or a CTE and a `JOIN`."
   ]
  },
  {
   "cell_type": "code",
   "execution_count": null,
   "id": "36586803",
   "metadata": {
    "attributes": {
     "classes": [
      "clear"
     ],
     "id": ""
    }
   },
   "outputs": [],
   "source": [
    "%%sql\n"
   ]
  }
 ],
 "metadata": {
  "interpreter": {
   "hash": "31f2aee4e71d21fbe5cf8b01ff0e069b9275f58929596ceb00d14d90e3e16cd6"
  },
  "kernelspec": {
   "display_name": "Python 3.8.10 64-bit",
   "language": "python",
   "name": "python3"
  },
  "language_info": {
   "codemirror_mode": {
    "name": "ipython",
    "version": 3
   },
   "file_extension": ".py",
   "mimetype": "text/x-python",
   "name": "python",
   "nbconvert_exporter": "python",
   "pygments_lexer": "ipython3",
   "version": "3.8.10"
  }
 },
 "nbformat": 4,
 "nbformat_minor": 5
}
